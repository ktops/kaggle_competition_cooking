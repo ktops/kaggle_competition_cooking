{
 "cells": [
  {
   "cell_type": "markdown",
   "metadata": {},
   "source": [
    "# Kaggle Competition: What's Cooking\n",
    "Link: https://www.kaggle.com/c/whats-cooking-kernels-only/data\n",
    "\n",
    "### Team Members:\n",
    "##### Samantha Cohen, Kelsey Toporski, Emil Meireles, William Chen, and Nicolas Ortega. \n"
   ]
  },
  {
   "cell_type": "markdown",
   "metadata": {},
   "source": [
    "## Description of Copmetition // Statement of Purpose\n",
    "\n",
    "Our group chose the What’s Cooking Competition on Kaggle. This competition challenges us to predict the correct cuisine type (italian, mexican, greek, etc.) of a dish when given a list of ingredients. To tackle this goal, we decided to implement a variety of different machine learning models under two different approaches to data preprocessing. We tried both creating dummy variables  out of the dataset and NLP preprocessing, and then ran the data through models like decision trees, random forests, and linear SVC. Below we will walk through our code and outline our findings, limitations, challenges, and recommendations for moving forward."
   ]
  },
  {
   "cell_type": "markdown",
   "metadata": {},
   "source": [
    "## Import Statements: "
   ]
  },
  {
   "cell_type": "code",
   "execution_count": 61,
   "metadata": {},
   "outputs": [],
   "source": [
    "import pandas as pd \n",
    "import numpy as np\n",
    "import json\n",
    "import random\n",
    "\n",
    "from sklearn.cluster import KMeans\n",
    "from sklearn.model_selection import cross_val_score #how good model is \n",
    "from sklearn.model_selection import cross_val_predict\n",
    "import sklearn.ensemble as skens\n",
    "from sklearn.decomposition import PCA\n",
    "from sklearn import svm\n",
    "from sklearn.tree import DecisionTreeClassifier\n",
    "from sklearn.tree import export_graphviz\n",
    "from sklearn.model_selection import train_test_split\n",
    "from sklearn.metrics import accuracy_score\n",
    "from IPython.display import Image\n",
    "import pydotplus\n",
    "from sklearn.metrics import classification_report, confusion_matrix\n",
    "#visualization imports \n",
    "\n",
    "from bokeh.layouts import layout\n",
    "from bokeh.layouts import widgetbox\n",
    "from bokeh.embed import file_html\n",
    "from bokeh.io import show\n",
    "from bokeh.io import output_notebook\n",
    "from bokeh.models import Text\n",
    "from bokeh.models import Plot\n",
    "from bokeh.models import Title\n",
    "from bokeh.models import Slider\n",
    "from bokeh.models import Circle\n",
    "from bokeh.models import Range1d\n",
    "from bokeh.models import CustomJS\n",
    "from bokeh.models import HoverTool\n",
    "from bokeh.models import LinearAxis\n",
    "from bokeh.models import ColumnDataSource\n",
    "from bokeh.models import SingleIntervalTicker\n",
    "from bokeh.plotting import figure\n",
    "#from bokeh.palettes import Spectral6\n",
    "from bokeh.palettes import plasma\n",
    "from bokeh.transform import factor_cmap\n",
    "\n",
    "\n",
    "# from random import sample \n",
    "import warnings\n",
    "from scipy import stats \n",
    "import seaborn as sns\n",
    "import matplotlib.pyplot as plt\n",
    "%matplotlib inline"
   ]
  },
  {
   "cell_type": "code",
   "execution_count": 5,
   "metadata": {},
   "outputs": [],
   "source": [
    "warnings.filterwarnings('ignore') "
   ]
  },
  {
   "cell_type": "code",
   "execution_count": 6,
   "metadata": {},
   "outputs": [
    {
     "data": {
      "text/html": [
       "\n",
       "    <div class=\"bk-root\">\n",
       "        <a href=\"https://bokeh.pydata.org\" target=\"_blank\" class=\"bk-logo bk-logo-small bk-logo-notebook\"></a>\n",
       "        <span id=\"1001\">Loading BokehJS ...</span>\n",
       "    </div>"
      ]
     },
     "metadata": {},
     "output_type": "display_data"
    },
    {
     "data": {
      "application/javascript": [
       "\n",
       "(function(root) {\n",
       "  function now() {\n",
       "    return new Date();\n",
       "  }\n",
       "\n",
       "  var force = true;\n",
       "\n",
       "  if (typeof (root._bokeh_onload_callbacks) === \"undefined\" || force === true) {\n",
       "    root._bokeh_onload_callbacks = [];\n",
       "    root._bokeh_is_loading = undefined;\n",
       "  }\n",
       "\n",
       "  var JS_MIME_TYPE = 'application/javascript';\n",
       "  var HTML_MIME_TYPE = 'text/html';\n",
       "  var EXEC_MIME_TYPE = 'application/vnd.bokehjs_exec.v0+json';\n",
       "  var CLASS_NAME = 'output_bokeh rendered_html';\n",
       "\n",
       "  /**\n",
       "   * Render data to the DOM node\n",
       "   */\n",
       "  function render(props, node) {\n",
       "    var script = document.createElement(\"script\");\n",
       "    node.appendChild(script);\n",
       "  }\n",
       "\n",
       "  /**\n",
       "   * Handle when an output is cleared or removed\n",
       "   */\n",
       "  function handleClearOutput(event, handle) {\n",
       "    var cell = handle.cell;\n",
       "\n",
       "    var id = cell.output_area._bokeh_element_id;\n",
       "    var server_id = cell.output_area._bokeh_server_id;\n",
       "    // Clean up Bokeh references\n",
       "    if (id != null && id in Bokeh.index) {\n",
       "      Bokeh.index[id].model.document.clear();\n",
       "      delete Bokeh.index[id];\n",
       "    }\n",
       "\n",
       "    if (server_id !== undefined) {\n",
       "      // Clean up Bokeh references\n",
       "      var cmd = \"from bokeh.io.state import curstate; print(curstate().uuid_to_server['\" + server_id + \"'].get_sessions()[0].document.roots[0]._id)\";\n",
       "      cell.notebook.kernel.execute(cmd, {\n",
       "        iopub: {\n",
       "          output: function(msg) {\n",
       "            var id = msg.content.text.trim();\n",
       "            if (id in Bokeh.index) {\n",
       "              Bokeh.index[id].model.document.clear();\n",
       "              delete Bokeh.index[id];\n",
       "            }\n",
       "          }\n",
       "        }\n",
       "      });\n",
       "      // Destroy server and session\n",
       "      var cmd = \"import bokeh.io.notebook as ion; ion.destroy_server('\" + server_id + \"')\";\n",
       "      cell.notebook.kernel.execute(cmd);\n",
       "    }\n",
       "  }\n",
       "\n",
       "  /**\n",
       "   * Handle when a new output is added\n",
       "   */\n",
       "  function handleAddOutput(event, handle) {\n",
       "    var output_area = handle.output_area;\n",
       "    var output = handle.output;\n",
       "\n",
       "    // limit handleAddOutput to display_data with EXEC_MIME_TYPE content only\n",
       "    if ((output.output_type != \"display_data\") || (!output.data.hasOwnProperty(EXEC_MIME_TYPE))) {\n",
       "      return\n",
       "    }\n",
       "\n",
       "    var toinsert = output_area.element.find(\".\" + CLASS_NAME.split(' ')[0]);\n",
       "\n",
       "    if (output.metadata[EXEC_MIME_TYPE][\"id\"] !== undefined) {\n",
       "      toinsert[toinsert.length - 1].firstChild.textContent = output.data[JS_MIME_TYPE];\n",
       "      // store reference to embed id on output_area\n",
       "      output_area._bokeh_element_id = output.metadata[EXEC_MIME_TYPE][\"id\"];\n",
       "    }\n",
       "    if (output.metadata[EXEC_MIME_TYPE][\"server_id\"] !== undefined) {\n",
       "      var bk_div = document.createElement(\"div\");\n",
       "      bk_div.innerHTML = output.data[HTML_MIME_TYPE];\n",
       "      var script_attrs = bk_div.children[0].attributes;\n",
       "      for (var i = 0; i < script_attrs.length; i++) {\n",
       "        toinsert[toinsert.length - 1].firstChild.setAttribute(script_attrs[i].name, script_attrs[i].value);\n",
       "      }\n",
       "      // store reference to server id on output_area\n",
       "      output_area._bokeh_server_id = output.metadata[EXEC_MIME_TYPE][\"server_id\"];\n",
       "    }\n",
       "  }\n",
       "\n",
       "  function register_renderer(events, OutputArea) {\n",
       "\n",
       "    function append_mime(data, metadata, element) {\n",
       "      // create a DOM node to render to\n",
       "      var toinsert = this.create_output_subarea(\n",
       "        metadata,\n",
       "        CLASS_NAME,\n",
       "        EXEC_MIME_TYPE\n",
       "      );\n",
       "      this.keyboard_manager.register_events(toinsert);\n",
       "      // Render to node\n",
       "      var props = {data: data, metadata: metadata[EXEC_MIME_TYPE]};\n",
       "      render(props, toinsert[toinsert.length - 1]);\n",
       "      element.append(toinsert);\n",
       "      return toinsert\n",
       "    }\n",
       "\n",
       "    /* Handle when an output is cleared or removed */\n",
       "    events.on('clear_output.CodeCell', handleClearOutput);\n",
       "    events.on('delete.Cell', handleClearOutput);\n",
       "\n",
       "    /* Handle when a new output is added */\n",
       "    events.on('output_added.OutputArea', handleAddOutput);\n",
       "\n",
       "    /**\n",
       "     * Register the mime type and append_mime function with output_area\n",
       "     */\n",
       "    OutputArea.prototype.register_mime_type(EXEC_MIME_TYPE, append_mime, {\n",
       "      /* Is output safe? */\n",
       "      safe: true,\n",
       "      /* Index of renderer in `output_area.display_order` */\n",
       "      index: 0\n",
       "    });\n",
       "  }\n",
       "\n",
       "  // register the mime type if in Jupyter Notebook environment and previously unregistered\n",
       "  if (root.Jupyter !== undefined) {\n",
       "    var events = require('base/js/events');\n",
       "    var OutputArea = require('notebook/js/outputarea').OutputArea;\n",
       "\n",
       "    if (OutputArea.prototype.mime_types().indexOf(EXEC_MIME_TYPE) == -1) {\n",
       "      register_renderer(events, OutputArea);\n",
       "    }\n",
       "  }\n",
       "\n",
       "  \n",
       "  if (typeof (root._bokeh_timeout) === \"undefined\" || force === true) {\n",
       "    root._bokeh_timeout = Date.now() + 5000;\n",
       "    root._bokeh_failed_load = false;\n",
       "  }\n",
       "\n",
       "  var NB_LOAD_WARNING = {'data': {'text/html':\n",
       "     \"<div style='background-color: #fdd'>\\n\"+\n",
       "     \"<p>\\n\"+\n",
       "     \"BokehJS does not appear to have successfully loaded. If loading BokehJS from CDN, this \\n\"+\n",
       "     \"may be due to a slow or bad network connection. Possible fixes:\\n\"+\n",
       "     \"</p>\\n\"+\n",
       "     \"<ul>\\n\"+\n",
       "     \"<li>re-rerun `output_notebook()` to attempt to load from CDN again, or</li>\\n\"+\n",
       "     \"<li>use INLINE resources instead, as so:</li>\\n\"+\n",
       "     \"</ul>\\n\"+\n",
       "     \"<code>\\n\"+\n",
       "     \"from bokeh.resources import INLINE\\n\"+\n",
       "     \"output_notebook(resources=INLINE)\\n\"+\n",
       "     \"</code>\\n\"+\n",
       "     \"</div>\"}};\n",
       "\n",
       "  function display_loaded() {\n",
       "    var el = document.getElementById(\"1001\");\n",
       "    if (el != null) {\n",
       "      el.textContent = \"BokehJS is loading...\";\n",
       "    }\n",
       "    if (root.Bokeh !== undefined) {\n",
       "      if (el != null) {\n",
       "        el.textContent = \"BokehJS \" + root.Bokeh.version + \" successfully loaded.\";\n",
       "      }\n",
       "    } else if (Date.now() < root._bokeh_timeout) {\n",
       "      setTimeout(display_loaded, 100)\n",
       "    }\n",
       "  }\n",
       "\n",
       "\n",
       "  function run_callbacks() {\n",
       "    try {\n",
       "      root._bokeh_onload_callbacks.forEach(function(callback) { callback() });\n",
       "    }\n",
       "    finally {\n",
       "      delete root._bokeh_onload_callbacks\n",
       "    }\n",
       "    console.info(\"Bokeh: all callbacks have finished\");\n",
       "  }\n",
       "\n",
       "  function load_libs(js_urls, callback) {\n",
       "    root._bokeh_onload_callbacks.push(callback);\n",
       "    if (root._bokeh_is_loading > 0) {\n",
       "      console.log(\"Bokeh: BokehJS is being loaded, scheduling callback at\", now());\n",
       "      return null;\n",
       "    }\n",
       "    if (js_urls == null || js_urls.length === 0) {\n",
       "      run_callbacks();\n",
       "      return null;\n",
       "    }\n",
       "    console.log(\"Bokeh: BokehJS not loaded, scheduling load and callback at\", now());\n",
       "    root._bokeh_is_loading = js_urls.length;\n",
       "    for (var i = 0; i < js_urls.length; i++) {\n",
       "      var url = js_urls[i];\n",
       "      var s = document.createElement('script');\n",
       "      s.src = url;\n",
       "      s.async = false;\n",
       "      s.onreadystatechange = s.onload = function() {\n",
       "        root._bokeh_is_loading--;\n",
       "        if (root._bokeh_is_loading === 0) {\n",
       "          console.log(\"Bokeh: all BokehJS libraries loaded\");\n",
       "          run_callbacks()\n",
       "        }\n",
       "      };\n",
       "      s.onerror = function() {\n",
       "        console.warn(\"failed to load library \" + url);\n",
       "      };\n",
       "      console.log(\"Bokeh: injecting script tag for BokehJS library: \", url);\n",
       "      document.getElementsByTagName(\"head\")[0].appendChild(s);\n",
       "    }\n",
       "  };var element = document.getElementById(\"1001\");\n",
       "  if (element == null) {\n",
       "    console.log(\"Bokeh: ERROR: autoload.js configured with elementid '1001' but no matching script tag was found. \")\n",
       "    return false;\n",
       "  }\n",
       "\n",
       "  var js_urls = [\"https://cdn.pydata.org/bokeh/release/bokeh-1.0.2.min.js\", \"https://cdn.pydata.org/bokeh/release/bokeh-widgets-1.0.2.min.js\", \"https://cdn.pydata.org/bokeh/release/bokeh-tables-1.0.2.min.js\", \"https://cdn.pydata.org/bokeh/release/bokeh-gl-1.0.2.min.js\"];\n",
       "\n",
       "  var inline_js = [\n",
       "    function(Bokeh) {\n",
       "      Bokeh.set_log_level(\"info\");\n",
       "    },\n",
       "    \n",
       "    function(Bokeh) {\n",
       "      \n",
       "    },\n",
       "    function(Bokeh) {\n",
       "      console.log(\"Bokeh: injecting CSS: https://cdn.pydata.org/bokeh/release/bokeh-1.0.2.min.css\");\n",
       "      Bokeh.embed.inject_css(\"https://cdn.pydata.org/bokeh/release/bokeh-1.0.2.min.css\");\n",
       "      console.log(\"Bokeh: injecting CSS: https://cdn.pydata.org/bokeh/release/bokeh-widgets-1.0.2.min.css\");\n",
       "      Bokeh.embed.inject_css(\"https://cdn.pydata.org/bokeh/release/bokeh-widgets-1.0.2.min.css\");\n",
       "      console.log(\"Bokeh: injecting CSS: https://cdn.pydata.org/bokeh/release/bokeh-tables-1.0.2.min.css\");\n",
       "      Bokeh.embed.inject_css(\"https://cdn.pydata.org/bokeh/release/bokeh-tables-1.0.2.min.css\");\n",
       "    }\n",
       "  ];\n",
       "\n",
       "  function run_inline_js() {\n",
       "    \n",
       "    if ((root.Bokeh !== undefined) || (force === true)) {\n",
       "      for (var i = 0; i < inline_js.length; i++) {\n",
       "        inline_js[i].call(root, root.Bokeh);\n",
       "      }if (force === true) {\n",
       "        display_loaded();\n",
       "      }} else if (Date.now() < root._bokeh_timeout) {\n",
       "      setTimeout(run_inline_js, 100);\n",
       "    } else if (!root._bokeh_failed_load) {\n",
       "      console.log(\"Bokeh: BokehJS failed to load within specified timeout.\");\n",
       "      root._bokeh_failed_load = true;\n",
       "    } else if (force !== true) {\n",
       "      var cell = $(document.getElementById(\"1001\")).parents('.cell').data().cell;\n",
       "      cell.output_area.append_execute_result(NB_LOAD_WARNING)\n",
       "    }\n",
       "\n",
       "  }\n",
       "\n",
       "  if (root._bokeh_is_loading === 0) {\n",
       "    console.log(\"Bokeh: BokehJS loaded, going straight to plotting\");\n",
       "    run_inline_js();\n",
       "  } else {\n",
       "    load_libs(js_urls, function() {\n",
       "      console.log(\"Bokeh: BokehJS plotting callback run at\", now());\n",
       "      run_inline_js();\n",
       "    });\n",
       "  }\n",
       "}(window));"
      ],
      "application/vnd.bokehjs_load.v0+json": "\n(function(root) {\n  function now() {\n    return new Date();\n  }\n\n  var force = true;\n\n  if (typeof (root._bokeh_onload_callbacks) === \"undefined\" || force === true) {\n    root._bokeh_onload_callbacks = [];\n    root._bokeh_is_loading = undefined;\n  }\n\n  \n\n  \n  if (typeof (root._bokeh_timeout) === \"undefined\" || force === true) {\n    root._bokeh_timeout = Date.now() + 5000;\n    root._bokeh_failed_load = false;\n  }\n\n  var NB_LOAD_WARNING = {'data': {'text/html':\n     \"<div style='background-color: #fdd'>\\n\"+\n     \"<p>\\n\"+\n     \"BokehJS does not appear to have successfully loaded. If loading BokehJS from CDN, this \\n\"+\n     \"may be due to a slow or bad network connection. Possible fixes:\\n\"+\n     \"</p>\\n\"+\n     \"<ul>\\n\"+\n     \"<li>re-rerun `output_notebook()` to attempt to load from CDN again, or</li>\\n\"+\n     \"<li>use INLINE resources instead, as so:</li>\\n\"+\n     \"</ul>\\n\"+\n     \"<code>\\n\"+\n     \"from bokeh.resources import INLINE\\n\"+\n     \"output_notebook(resources=INLINE)\\n\"+\n     \"</code>\\n\"+\n     \"</div>\"}};\n\n  function display_loaded() {\n    var el = document.getElementById(\"1001\");\n    if (el != null) {\n      el.textContent = \"BokehJS is loading...\";\n    }\n    if (root.Bokeh !== undefined) {\n      if (el != null) {\n        el.textContent = \"BokehJS \" + root.Bokeh.version + \" successfully loaded.\";\n      }\n    } else if (Date.now() < root._bokeh_timeout) {\n      setTimeout(display_loaded, 100)\n    }\n  }\n\n\n  function run_callbacks() {\n    try {\n      root._bokeh_onload_callbacks.forEach(function(callback) { callback() });\n    }\n    finally {\n      delete root._bokeh_onload_callbacks\n    }\n    console.info(\"Bokeh: all callbacks have finished\");\n  }\n\n  function load_libs(js_urls, callback) {\n    root._bokeh_onload_callbacks.push(callback);\n    if (root._bokeh_is_loading > 0) {\n      console.log(\"Bokeh: BokehJS is being loaded, scheduling callback at\", now());\n      return null;\n    }\n    if (js_urls == null || js_urls.length === 0) {\n      run_callbacks();\n      return null;\n    }\n    console.log(\"Bokeh: BokehJS not loaded, scheduling load and callback at\", now());\n    root._bokeh_is_loading = js_urls.length;\n    for (var i = 0; i < js_urls.length; i++) {\n      var url = js_urls[i];\n      var s = document.createElement('script');\n      s.src = url;\n      s.async = false;\n      s.onreadystatechange = s.onload = function() {\n        root._bokeh_is_loading--;\n        if (root._bokeh_is_loading === 0) {\n          console.log(\"Bokeh: all BokehJS libraries loaded\");\n          run_callbacks()\n        }\n      };\n      s.onerror = function() {\n        console.warn(\"failed to load library \" + url);\n      };\n      console.log(\"Bokeh: injecting script tag for BokehJS library: \", url);\n      document.getElementsByTagName(\"head\")[0].appendChild(s);\n    }\n  };var element = document.getElementById(\"1001\");\n  if (element == null) {\n    console.log(\"Bokeh: ERROR: autoload.js configured with elementid '1001' but no matching script tag was found. \")\n    return false;\n  }\n\n  var js_urls = [\"https://cdn.pydata.org/bokeh/release/bokeh-1.0.2.min.js\", \"https://cdn.pydata.org/bokeh/release/bokeh-widgets-1.0.2.min.js\", \"https://cdn.pydata.org/bokeh/release/bokeh-tables-1.0.2.min.js\", \"https://cdn.pydata.org/bokeh/release/bokeh-gl-1.0.2.min.js\"];\n\n  var inline_js = [\n    function(Bokeh) {\n      Bokeh.set_log_level(\"info\");\n    },\n    \n    function(Bokeh) {\n      \n    },\n    function(Bokeh) {\n      console.log(\"Bokeh: injecting CSS: https://cdn.pydata.org/bokeh/release/bokeh-1.0.2.min.css\");\n      Bokeh.embed.inject_css(\"https://cdn.pydata.org/bokeh/release/bokeh-1.0.2.min.css\");\n      console.log(\"Bokeh: injecting CSS: https://cdn.pydata.org/bokeh/release/bokeh-widgets-1.0.2.min.css\");\n      Bokeh.embed.inject_css(\"https://cdn.pydata.org/bokeh/release/bokeh-widgets-1.0.2.min.css\");\n      console.log(\"Bokeh: injecting CSS: https://cdn.pydata.org/bokeh/release/bokeh-tables-1.0.2.min.css\");\n      Bokeh.embed.inject_css(\"https://cdn.pydata.org/bokeh/release/bokeh-tables-1.0.2.min.css\");\n    }\n  ];\n\n  function run_inline_js() {\n    \n    if ((root.Bokeh !== undefined) || (force === true)) {\n      for (var i = 0; i < inline_js.length; i++) {\n        inline_js[i].call(root, root.Bokeh);\n      }if (force === true) {\n        display_loaded();\n      }} else if (Date.now() < root._bokeh_timeout) {\n      setTimeout(run_inline_js, 100);\n    } else if (!root._bokeh_failed_load) {\n      console.log(\"Bokeh: BokehJS failed to load within specified timeout.\");\n      root._bokeh_failed_load = true;\n    } else if (force !== true) {\n      var cell = $(document.getElementById(\"1001\")).parents('.cell').data().cell;\n      cell.output_area.append_execute_result(NB_LOAD_WARNING)\n    }\n\n  }\n\n  if (root._bokeh_is_loading === 0) {\n    console.log(\"Bokeh: BokehJS loaded, going straight to plotting\");\n    run_inline_js();\n  } else {\n    load_libs(js_urls, function() {\n      console.log(\"Bokeh: BokehJS plotting callback run at\", now());\n      run_inline_js();\n    });\n  }\n}(window));"
     },
     "metadata": {},
     "output_type": "display_data"
    }
   ],
   "source": [
    "output_notebook()"
   ]
  },
  {
   "cell_type": "markdown",
   "metadata": {},
   "source": [
    "## PART 1: RANDOM FOREST CLASSIFIER"
   ]
  },
  {
   "cell_type": "markdown",
   "metadata": {},
   "source": [
    "## 1) Put data in the correct format in order to run RandomForestClassifier later in the code: \n",
    "\n",
    "Our data from Kaggle was in json format, and so we will read it in with pd.read_json"
   ]
  },
  {
   "cell_type": "code",
   "execution_count": 7,
   "metadata": {},
   "outputs": [],
   "source": [
    "test = pd.read_json('test.json')"
   ]
  },
  {
   "cell_type": "code",
   "execution_count": 8,
   "metadata": {},
   "outputs": [
    {
     "data": {
      "text/html": [
       "<div>\n",
       "<style scoped>\n",
       "    .dataframe tbody tr th:only-of-type {\n",
       "        vertical-align: middle;\n",
       "    }\n",
       "\n",
       "    .dataframe tbody tr th {\n",
       "        vertical-align: top;\n",
       "    }\n",
       "\n",
       "    .dataframe thead th {\n",
       "        text-align: right;\n",
       "    }\n",
       "</style>\n",
       "<table border=\"1\" class=\"dataframe\">\n",
       "  <thead>\n",
       "    <tr style=\"text-align: right;\">\n",
       "      <th></th>\n",
       "      <th>id</th>\n",
       "      <th>ingredients</th>\n",
       "    </tr>\n",
       "  </thead>\n",
       "  <tbody>\n",
       "    <tr>\n",
       "      <th>0</th>\n",
       "      <td>18009</td>\n",
       "      <td>[baking powder, eggs, all-purpose flour, raisi...</td>\n",
       "    </tr>\n",
       "    <tr>\n",
       "      <th>1</th>\n",
       "      <td>28583</td>\n",
       "      <td>[sugar, egg yolks, corn starch, cream of tarta...</td>\n",
       "    </tr>\n",
       "    <tr>\n",
       "      <th>2</th>\n",
       "      <td>41580</td>\n",
       "      <td>[sausage links, fennel bulb, fronds, olive oil...</td>\n",
       "    </tr>\n",
       "    <tr>\n",
       "      <th>3</th>\n",
       "      <td>29752</td>\n",
       "      <td>[meat cuts, file powder, smoked sausage, okra,...</td>\n",
       "    </tr>\n",
       "    <tr>\n",
       "      <th>4</th>\n",
       "      <td>35687</td>\n",
       "      <td>[ground black pepper, salt, sausage casings, l...</td>\n",
       "    </tr>\n",
       "  </tbody>\n",
       "</table>\n",
       "</div>"
      ],
      "text/plain": [
       "      id                                        ingredients\n",
       "0  18009  [baking powder, eggs, all-purpose flour, raisi...\n",
       "1  28583  [sugar, egg yolks, corn starch, cream of tarta...\n",
       "2  41580  [sausage links, fennel bulb, fronds, olive oil...\n",
       "3  29752  [meat cuts, file powder, smoked sausage, okra,...\n",
       "4  35687  [ground black pepper, salt, sausage casings, l..."
      ]
     },
     "execution_count": 8,
     "metadata": {},
     "output_type": "execute_result"
    }
   ],
   "source": [
    "test.head()"
   ]
  },
  {
   "cell_type": "code",
   "execution_count": 9,
   "metadata": {},
   "outputs": [],
   "source": [
    "train = pd.read_json('train.json')"
   ]
  },
  {
   "cell_type": "code",
   "execution_count": 10,
   "metadata": {},
   "outputs": [
    {
     "data": {
      "text/html": [
       "<div>\n",
       "<style scoped>\n",
       "    .dataframe tbody tr th:only-of-type {\n",
       "        vertical-align: middle;\n",
       "    }\n",
       "\n",
       "    .dataframe tbody tr th {\n",
       "        vertical-align: top;\n",
       "    }\n",
       "\n",
       "    .dataframe thead th {\n",
       "        text-align: right;\n",
       "    }\n",
       "</style>\n",
       "<table border=\"1\" class=\"dataframe\">\n",
       "  <thead>\n",
       "    <tr style=\"text-align: right;\">\n",
       "      <th></th>\n",
       "      <th>cuisine</th>\n",
       "      <th>id</th>\n",
       "      <th>ingredients</th>\n",
       "    </tr>\n",
       "  </thead>\n",
       "  <tbody>\n",
       "    <tr>\n",
       "      <th>0</th>\n",
       "      <td>greek</td>\n",
       "      <td>10259</td>\n",
       "      <td>[romaine lettuce, black olives, grape tomatoes...</td>\n",
       "    </tr>\n",
       "    <tr>\n",
       "      <th>1</th>\n",
       "      <td>southern_us</td>\n",
       "      <td>25693</td>\n",
       "      <td>[plain flour, ground pepper, salt, tomatoes, g...</td>\n",
       "    </tr>\n",
       "    <tr>\n",
       "      <th>2</th>\n",
       "      <td>filipino</td>\n",
       "      <td>20130</td>\n",
       "      <td>[eggs, pepper, salt, mayonaise, cooking oil, g...</td>\n",
       "    </tr>\n",
       "    <tr>\n",
       "      <th>3</th>\n",
       "      <td>indian</td>\n",
       "      <td>22213</td>\n",
       "      <td>[water, vegetable oil, wheat, salt]</td>\n",
       "    </tr>\n",
       "    <tr>\n",
       "      <th>4</th>\n",
       "      <td>indian</td>\n",
       "      <td>13162</td>\n",
       "      <td>[black pepper, shallots, cornflour, cayenne pe...</td>\n",
       "    </tr>\n",
       "  </tbody>\n",
       "</table>\n",
       "</div>"
      ],
      "text/plain": [
       "       cuisine     id                                        ingredients\n",
       "0        greek  10259  [romaine lettuce, black olives, grape tomatoes...\n",
       "1  southern_us  25693  [plain flour, ground pepper, salt, tomatoes, g...\n",
       "2     filipino  20130  [eggs, pepper, salt, mayonaise, cooking oil, g...\n",
       "3       indian  22213                [water, vegetable oil, wheat, salt]\n",
       "4       indian  13162  [black pepper, shallots, cornflour, cayenne pe..."
      ]
     },
     "execution_count": 10,
     "metadata": {},
     "output_type": "execute_result"
    }
   ],
   "source": [
    "# tr=train[\"ingredients\"].apply(pd.Series)\n",
    "train.head()"
   ]
  },
  {
   "cell_type": "code",
   "execution_count": 11,
   "metadata": {},
   "outputs": [
    {
     "data": {
      "text/plain": [
       "39774"
      ]
     },
     "execution_count": 11,
     "metadata": {},
     "output_type": "execute_result"
    }
   ],
   "source": [
    "len(train)"
   ]
  },
  {
   "cell_type": "markdown",
   "metadata": {},
   "source": [
    "#### Explanation: \n",
    "The dataset in both train and test is in a format that cannot be used in a Random Forest Classifier. For the train data, the columns need to be every unique ingredient with a 0 or 1 if the ingredient is in a particular cuisine. In the next part, re-load both the test data and train data, and create a dictionary that will be used to create a DataFrame with the information formatted correctly. Do the same thing for the test data as well. \n",
    "\n",
    "The test.json data does not have cuisines listed. We are going to use the random forest classifier that is going to be created below on the train.json data. Since the test.json does not have cusines listed, I am going to run cross validation on this data to get an accuracy score. "
   ]
  },
  {
   "cell_type": "markdown",
   "metadata": {},
   "source": [
    "## 2) Re-read in json files to be cleaned before putting it into pandas DataFrames. \n",
    "- read in test.json and assign it to the variable test_data \n",
    "- read in train.json and assign it to the variable data "
   ]
  },
  {
   "cell_type": "code",
   "execution_count": 12,
   "metadata": {},
   "outputs": [],
   "source": [
    "with open('train.json') as json_file:\n",
    "    data = json.load(json_file)\n",
    "#no cuisine labels \n",
    "#cross validate on training dataset"
   ]
  },
  {
   "cell_type": "code",
   "execution_count": 13,
   "metadata": {},
   "outputs": [],
   "source": [
    "with open('test.json') as json_file:\n",
    "    test_data = json.load(json_file)\n",
    " "
   ]
  },
  {
   "cell_type": "markdown",
   "metadata": {},
   "source": [
    "#### a) Get a list of all the unique ingredients in both data (train data) and test_data (test data) and assign the resulting lists to two separate variables.  \n",
    "\n",
    "The train data ingredients, which comes from the values in the variable data, will be a assigned to a list called unique_ingredients. \n",
    "\n",
    "The test data ingredients, which comes from the values in the variable test_data, will be assigned to a list called unique_ingredients_test."
   ]
  },
  {
   "cell_type": "code",
   "execution_count": 14,
   "metadata": {},
   "outputs": [],
   "source": [
    "#train data \n",
    "lst = []\n",
    "for x in data: \n",
    "    id_=x[\"id\"]\n",
    "    ingredients = x['ingredients']\n",
    "    for ingred in ingredients:\n",
    "        lst.append(ingred)\n"
   ]
  },
  {
   "cell_type": "code",
   "execution_count": 15,
   "metadata": {},
   "outputs": [],
   "source": [
    "#train data ingredients \n",
    "unique_ingredients=list(set(lst))"
   ]
  },
  {
   "cell_type": "code",
   "execution_count": 16,
   "metadata": {},
   "outputs": [],
   "source": [
    "#test data\n",
    "lst2 = []\n",
    "for x in test_data: \n",
    "    id_=x[\"id\"]\n",
    "    ingredients = x['ingredients']\n",
    "    for ingred in ingredients:\n",
    "        lst2.append(ingred)\n"
   ]
  },
  {
   "cell_type": "code",
   "execution_count": 17,
   "metadata": {},
   "outputs": [],
   "source": [
    "#test data ingredients \n",
    "unique_ingredients_test =list(set(lst2))"
   ]
  },
  {
   "cell_type": "markdown",
   "metadata": {},
   "source": [
    "#### b) Create a dictionary called ingred_value that formats the train data correctly, called data, to be used for a Random Forest Classifier. This dictionary will be used to create a DataFrame called train_df.\n",
    "\n",
    "This is a dictionary called ingred_value where one of the keys is called 'cusine' and the value is a list of all the cuisines in the dataset. The other keys in the dictionary is all the ingredients in the dataset as keys. The values are 0 or 1 depending on if the particular cuisine mentioned has the ingredient. "
   ]
  },
  {
   "cell_type": "code",
   "execution_count": 18,
   "metadata": {},
   "outputs": [],
   "source": [
    "ingred_value = {ingredient: [] for ingredient in unique_ingredients}"
   ]
  },
  {
   "cell_type": "code",
   "execution_count": 19,
   "metadata": {},
   "outputs": [],
   "source": [
    "ids = []\n",
    "ciusine = [] \n",
    "ingredient_lst = unique_ingredients\n",
    "ingredients_for_id =[] \n",
    "for x in data: \n",
    "    id_=x[\"id\"]\n",
    "    ingredients_in_id = x['ingredients']\n",
    "    ids.append(id_)\n",
    "    ciusine.append(x[\"cuisine\"])\n",
    "    for ingred in ingred_value: \n",
    "            if ingred in ingredients_in_id:\n",
    "                ingred_value[ingred].append(1)\n",
    "            else: \n",
    "                 ingred_value[ingred].append(0)            "
   ]
  },
  {
   "cell_type": "code",
   "execution_count": 20,
   "metadata": {},
   "outputs": [],
   "source": [
    "# create a key in the ingred_value dictionary called cuisine \n",
    "# The value is now a list of cuisines in the dataset \n",
    "# the list called ciusine was created above \n",
    "\n",
    "ingred_value[\"cuisine\"] = ciusine"
   ]
  },
  {
   "cell_type": "code",
   "execution_count": 21,
   "metadata": {},
   "outputs": [],
   "source": [
    "#ingred_value"
   ]
  },
  {
   "cell_type": "markdown",
   "metadata": {},
   "source": [
    "#### c) Created a DataFrame called train_df with the ingred_value dictionary that was created above. "
   ]
  },
  {
   "cell_type": "code",
   "execution_count": 22,
   "metadata": {},
   "outputs": [],
   "source": [
    "train_df = pd.DataFrame(ingred_value)"
   ]
  },
  {
   "cell_type": "code",
   "execution_count": 23,
   "metadata": {},
   "outputs": [
    {
     "data": {
      "text/html": [
       "<div>\n",
       "<style scoped>\n",
       "    .dataframe tbody tr th:only-of-type {\n",
       "        vertical-align: middle;\n",
       "    }\n",
       "\n",
       "    .dataframe tbody tr th {\n",
       "        vertical-align: top;\n",
       "    }\n",
       "\n",
       "    .dataframe thead th {\n",
       "        text-align: right;\n",
       "    }\n",
       "</style>\n",
       "<table border=\"1\" class=\"dataframe\">\n",
       "  <thead>\n",
       "    <tr style=\"text-align: right;\">\n",
       "      <th></th>\n",
       "      <th>sesame oil</th>\n",
       "      <th>salted roasted almonds</th>\n",
       "      <th>puffed rice</th>\n",
       "      <th>frosting</th>\n",
       "      <th>ripe olives</th>\n",
       "      <th>framboise eau-de-vie</th>\n",
       "      <th>baking soda</th>\n",
       "      <th>trout</th>\n",
       "      <th>ketjap</th>\n",
       "      <th>soup mix</th>\n",
       "      <th>...</th>\n",
       "      <th>gaeta olives</th>\n",
       "      <th>Daiya</th>\n",
       "      <th>compote</th>\n",
       "      <th>sweet italian sausage</th>\n",
       "      <th>lemon peel</th>\n",
       "      <th>lavender</th>\n",
       "      <th>low sodium beef bouillon granules</th>\n",
       "      <th>squirt</th>\n",
       "      <th>frozen shelled edamame</th>\n",
       "      <th>cuisine</th>\n",
       "    </tr>\n",
       "  </thead>\n",
       "  <tbody>\n",
       "    <tr>\n",
       "      <th>0</th>\n",
       "      <td>0</td>\n",
       "      <td>0</td>\n",
       "      <td>0</td>\n",
       "      <td>0</td>\n",
       "      <td>0</td>\n",
       "      <td>0</td>\n",
       "      <td>0</td>\n",
       "      <td>0</td>\n",
       "      <td>0</td>\n",
       "      <td>0</td>\n",
       "      <td>...</td>\n",
       "      <td>0</td>\n",
       "      <td>0</td>\n",
       "      <td>0</td>\n",
       "      <td>0</td>\n",
       "      <td>0</td>\n",
       "      <td>0</td>\n",
       "      <td>0</td>\n",
       "      <td>0</td>\n",
       "      <td>0</td>\n",
       "      <td>greek</td>\n",
       "    </tr>\n",
       "    <tr>\n",
       "      <th>1</th>\n",
       "      <td>0</td>\n",
       "      <td>0</td>\n",
       "      <td>0</td>\n",
       "      <td>0</td>\n",
       "      <td>0</td>\n",
       "      <td>0</td>\n",
       "      <td>0</td>\n",
       "      <td>0</td>\n",
       "      <td>0</td>\n",
       "      <td>0</td>\n",
       "      <td>...</td>\n",
       "      <td>0</td>\n",
       "      <td>0</td>\n",
       "      <td>0</td>\n",
       "      <td>0</td>\n",
       "      <td>0</td>\n",
       "      <td>0</td>\n",
       "      <td>0</td>\n",
       "      <td>0</td>\n",
       "      <td>0</td>\n",
       "      <td>southern_us</td>\n",
       "    </tr>\n",
       "    <tr>\n",
       "      <th>2</th>\n",
       "      <td>0</td>\n",
       "      <td>0</td>\n",
       "      <td>0</td>\n",
       "      <td>0</td>\n",
       "      <td>0</td>\n",
       "      <td>0</td>\n",
       "      <td>0</td>\n",
       "      <td>0</td>\n",
       "      <td>0</td>\n",
       "      <td>0</td>\n",
       "      <td>...</td>\n",
       "      <td>0</td>\n",
       "      <td>0</td>\n",
       "      <td>0</td>\n",
       "      <td>0</td>\n",
       "      <td>0</td>\n",
       "      <td>0</td>\n",
       "      <td>0</td>\n",
       "      <td>0</td>\n",
       "      <td>0</td>\n",
       "      <td>filipino</td>\n",
       "    </tr>\n",
       "    <tr>\n",
       "      <th>3</th>\n",
       "      <td>0</td>\n",
       "      <td>0</td>\n",
       "      <td>0</td>\n",
       "      <td>0</td>\n",
       "      <td>0</td>\n",
       "      <td>0</td>\n",
       "      <td>0</td>\n",
       "      <td>0</td>\n",
       "      <td>0</td>\n",
       "      <td>0</td>\n",
       "      <td>...</td>\n",
       "      <td>0</td>\n",
       "      <td>0</td>\n",
       "      <td>0</td>\n",
       "      <td>0</td>\n",
       "      <td>0</td>\n",
       "      <td>0</td>\n",
       "      <td>0</td>\n",
       "      <td>0</td>\n",
       "      <td>0</td>\n",
       "      <td>indian</td>\n",
       "    </tr>\n",
       "    <tr>\n",
       "      <th>4</th>\n",
       "      <td>0</td>\n",
       "      <td>0</td>\n",
       "      <td>0</td>\n",
       "      <td>0</td>\n",
       "      <td>0</td>\n",
       "      <td>0</td>\n",
       "      <td>0</td>\n",
       "      <td>0</td>\n",
       "      <td>0</td>\n",
       "      <td>0</td>\n",
       "      <td>...</td>\n",
       "      <td>0</td>\n",
       "      <td>0</td>\n",
       "      <td>0</td>\n",
       "      <td>0</td>\n",
       "      <td>0</td>\n",
       "      <td>0</td>\n",
       "      <td>0</td>\n",
       "      <td>0</td>\n",
       "      <td>0</td>\n",
       "      <td>indian</td>\n",
       "    </tr>\n",
       "  </tbody>\n",
       "</table>\n",
       "<p>5 rows × 6715 columns</p>\n",
       "</div>"
      ],
      "text/plain": [
       "   sesame oil  salted roasted almonds  puffed rice  frosting  ripe olives  \\\n",
       "0           0                       0            0         0            0   \n",
       "1           0                       0            0         0            0   \n",
       "2           0                       0            0         0            0   \n",
       "3           0                       0            0         0            0   \n",
       "4           0                       0            0         0            0   \n",
       "\n",
       "   framboise eau-de-vie  baking soda  trout  ketjap  soup mix     ...       \\\n",
       "0                     0            0      0       0         0     ...        \n",
       "1                     0            0      0       0         0     ...        \n",
       "2                     0            0      0       0         0     ...        \n",
       "3                     0            0      0       0         0     ...        \n",
       "4                     0            0      0       0         0     ...        \n",
       "\n",
       "   gaeta olives  Daiya  compote  sweet italian sausage  lemon peel  lavender  \\\n",
       "0             0      0        0                      0           0         0   \n",
       "1             0      0        0                      0           0         0   \n",
       "2             0      0        0                      0           0         0   \n",
       "3             0      0        0                      0           0         0   \n",
       "4             0      0        0                      0           0         0   \n",
       "\n",
       "   low sodium beef bouillon granules  squirt  frozen shelled edamame  \\\n",
       "0                                  0       0                       0   \n",
       "1                                  0       0                       0   \n",
       "2                                  0       0                       0   \n",
       "3                                  0       0                       0   \n",
       "4                                  0       0                       0   \n",
       "\n",
       "       cuisine  \n",
       "0        greek  \n",
       "1  southern_us  \n",
       "2     filipino  \n",
       "3       indian  \n",
       "4       indian  \n",
       "\n",
       "[5 rows x 6715 columns]"
      ]
     },
     "execution_count": 23,
     "metadata": {},
     "output_type": "execute_result"
    }
   ],
   "source": [
    "train_df.head()"
   ]
  },
  {
   "cell_type": "markdown",
   "metadata": {},
   "source": [
    "##### Explanation: \n",
    "The DataFrame train_df is now formatted correctly to perform machine learning classifiers on. "
   ]
  },
  {
   "cell_type": "markdown",
   "metadata": {},
   "source": [
    "#### d) Repeat steps b and c above for test_data. Create a dictionary called ingred_value_test that formats the test data correctly, called test_data, to be used for a Random Forest Classifier. This dictionary will be used to create a DataFrame called test_df.\n",
    "\n",
    "This is a dictionary called ingred_value_test where the keys in the dictionary is all the ingredients in the dataset as keys. The values are 0 or 1 depending on if the particular id mentioned has the ingredient. \n",
    "\n",
    "NOTE: as talked about above, the test dataset does not have any cuisines. "
   ]
  },
  {
   "cell_type": "code",
   "execution_count": 24,
   "metadata": {},
   "outputs": [],
   "source": [
    "ingred_value_test = {ingredient: [] for ingredient in unique_ingredients_test}\n"
   ]
  },
  {
   "cell_type": "code",
   "execution_count": 25,
   "metadata": {},
   "outputs": [],
   "source": [
    "## for test data: \n",
    "ids = []\n",
    "ingredient_lst = unique_ingredients_test\n",
    "ingredients_for_id =[] \n",
    "for x in test_data: \n",
    "    id_=x[\"id\"]\n",
    "    ingredients_in_id = x['ingredients']\n",
    "    ids.append(id_)\n",
    "    for ingred in ingred_value_test: \n",
    "            if ingred in ingredients_in_id:\n",
    "                ingred_value_test[ingred].append(1)\n",
    "            else: \n",
    "                 ingred_value_test[ingred].append(0)                "
   ]
  },
  {
   "cell_type": "code",
   "execution_count": 26,
   "metadata": {},
   "outputs": [],
   "source": [
    "# create a key in the ingred_value_test dictionary called id\n",
    "# The value is now a list of ids in the dataset \n",
    "# the list called ids was created above \n",
    "\n",
    "ingred_value_test[\"id\"] = ids"
   ]
  },
  {
   "cell_type": "markdown",
   "metadata": {},
   "source": [
    "#### c) Created a DataFrame called test_df with the ingred_value_test dictionary that was created above. "
   ]
  },
  {
   "cell_type": "code",
   "execution_count": 27,
   "metadata": {},
   "outputs": [],
   "source": [
    "test_df = pd.DataFrame(ingred_value_test)"
   ]
  },
  {
   "cell_type": "code",
   "execution_count": 28,
   "metadata": {},
   "outputs": [
    {
     "data": {
      "text/html": [
       "<div>\n",
       "<style scoped>\n",
       "    .dataframe tbody tr th:only-of-type {\n",
       "        vertical-align: middle;\n",
       "    }\n",
       "\n",
       "    .dataframe tbody tr th {\n",
       "        vertical-align: top;\n",
       "    }\n",
       "\n",
       "    .dataframe thead th {\n",
       "        text-align: right;\n",
       "    }\n",
       "</style>\n",
       "<table border=\"1\" class=\"dataframe\">\n",
       "  <thead>\n",
       "    <tr style=\"text-align: right;\">\n",
       "      <th></th>\n",
       "      <th>condensed tomato soup</th>\n",
       "      <th>sesame oil</th>\n",
       "      <th>salted roasted almonds</th>\n",
       "      <th>chipotle</th>\n",
       "      <th>green tea</th>\n",
       "      <th>brown butter</th>\n",
       "      <th>puffed rice</th>\n",
       "      <th>frosting</th>\n",
       "      <th>hog casings</th>\n",
       "      <th>ripe olives</th>\n",
       "      <th>...</th>\n",
       "      <th>squirt</th>\n",
       "      <th>ground nuts</th>\n",
       "      <th>olive oil flavored cooking spray</th>\n",
       "      <th>dried beans</th>\n",
       "      <th>smooth pasta</th>\n",
       "      <th>barley</th>\n",
       "      <th>cream cheese lowfat</th>\n",
       "      <th>frozen shelled edamame</th>\n",
       "      <th>diet orange soda</th>\n",
       "      <th>id</th>\n",
       "    </tr>\n",
       "  </thead>\n",
       "  <tbody>\n",
       "    <tr>\n",
       "      <th>0</th>\n",
       "      <td>0</td>\n",
       "      <td>0</td>\n",
       "      <td>0</td>\n",
       "      <td>0</td>\n",
       "      <td>0</td>\n",
       "      <td>0</td>\n",
       "      <td>0</td>\n",
       "      <td>0</td>\n",
       "      <td>0</td>\n",
       "      <td>0</td>\n",
       "      <td>...</td>\n",
       "      <td>0</td>\n",
       "      <td>0</td>\n",
       "      <td>0</td>\n",
       "      <td>0</td>\n",
       "      <td>0</td>\n",
       "      <td>0</td>\n",
       "      <td>0</td>\n",
       "      <td>0</td>\n",
       "      <td>0</td>\n",
       "      <td>18009</td>\n",
       "    </tr>\n",
       "    <tr>\n",
       "      <th>1</th>\n",
       "      <td>0</td>\n",
       "      <td>0</td>\n",
       "      <td>0</td>\n",
       "      <td>0</td>\n",
       "      <td>0</td>\n",
       "      <td>0</td>\n",
       "      <td>0</td>\n",
       "      <td>0</td>\n",
       "      <td>0</td>\n",
       "      <td>0</td>\n",
       "      <td>...</td>\n",
       "      <td>0</td>\n",
       "      <td>0</td>\n",
       "      <td>0</td>\n",
       "      <td>0</td>\n",
       "      <td>0</td>\n",
       "      <td>0</td>\n",
       "      <td>0</td>\n",
       "      <td>0</td>\n",
       "      <td>0</td>\n",
       "      <td>28583</td>\n",
       "    </tr>\n",
       "    <tr>\n",
       "      <th>2</th>\n",
       "      <td>0</td>\n",
       "      <td>0</td>\n",
       "      <td>0</td>\n",
       "      <td>0</td>\n",
       "      <td>0</td>\n",
       "      <td>0</td>\n",
       "      <td>0</td>\n",
       "      <td>0</td>\n",
       "      <td>0</td>\n",
       "      <td>0</td>\n",
       "      <td>...</td>\n",
       "      <td>0</td>\n",
       "      <td>0</td>\n",
       "      <td>0</td>\n",
       "      <td>0</td>\n",
       "      <td>0</td>\n",
       "      <td>0</td>\n",
       "      <td>0</td>\n",
       "      <td>0</td>\n",
       "      <td>0</td>\n",
       "      <td>41580</td>\n",
       "    </tr>\n",
       "    <tr>\n",
       "      <th>3</th>\n",
       "      <td>0</td>\n",
       "      <td>0</td>\n",
       "      <td>0</td>\n",
       "      <td>0</td>\n",
       "      <td>0</td>\n",
       "      <td>0</td>\n",
       "      <td>0</td>\n",
       "      <td>0</td>\n",
       "      <td>0</td>\n",
       "      <td>0</td>\n",
       "      <td>...</td>\n",
       "      <td>0</td>\n",
       "      <td>0</td>\n",
       "      <td>0</td>\n",
       "      <td>0</td>\n",
       "      <td>0</td>\n",
       "      <td>0</td>\n",
       "      <td>0</td>\n",
       "      <td>0</td>\n",
       "      <td>0</td>\n",
       "      <td>29752</td>\n",
       "    </tr>\n",
       "    <tr>\n",
       "      <th>4</th>\n",
       "      <td>0</td>\n",
       "      <td>0</td>\n",
       "      <td>0</td>\n",
       "      <td>0</td>\n",
       "      <td>0</td>\n",
       "      <td>0</td>\n",
       "      <td>0</td>\n",
       "      <td>0</td>\n",
       "      <td>0</td>\n",
       "      <td>0</td>\n",
       "      <td>...</td>\n",
       "      <td>0</td>\n",
       "      <td>0</td>\n",
       "      <td>0</td>\n",
       "      <td>0</td>\n",
       "      <td>0</td>\n",
       "      <td>0</td>\n",
       "      <td>0</td>\n",
       "      <td>0</td>\n",
       "      <td>0</td>\n",
       "      <td>35687</td>\n",
       "    </tr>\n",
       "  </tbody>\n",
       "</table>\n",
       "<p>5 rows × 4485 columns</p>\n",
       "</div>"
      ],
      "text/plain": [
       "   condensed tomato soup  sesame oil  salted roasted almonds  chipotle  \\\n",
       "0                      0           0                       0         0   \n",
       "1                      0           0                       0         0   \n",
       "2                      0           0                       0         0   \n",
       "3                      0           0                       0         0   \n",
       "4                      0           0                       0         0   \n",
       "\n",
       "   green tea  brown butter  puffed rice  frosting  hog casings  ripe olives  \\\n",
       "0          0             0            0         0            0            0   \n",
       "1          0             0            0         0            0            0   \n",
       "2          0             0            0         0            0            0   \n",
       "3          0             0            0         0            0            0   \n",
       "4          0             0            0         0            0            0   \n",
       "\n",
       "   ...    squirt  ground nuts  olive oil flavored cooking spray  dried beans  \\\n",
       "0  ...         0            0                                 0            0   \n",
       "1  ...         0            0                                 0            0   \n",
       "2  ...         0            0                                 0            0   \n",
       "3  ...         0            0                                 0            0   \n",
       "4  ...         0            0                                 0            0   \n",
       "\n",
       "   smooth pasta  barley  cream cheese lowfat  frozen shelled edamame  \\\n",
       "0             0       0                    0                       0   \n",
       "1             0       0                    0                       0   \n",
       "2             0       0                    0                       0   \n",
       "3             0       0                    0                       0   \n",
       "4             0       0                    0                       0   \n",
       "\n",
       "   diet orange soda     id  \n",
       "0                 0  18009  \n",
       "1                 0  28583  \n",
       "2                 0  41580  \n",
       "3                 0  29752  \n",
       "4                 0  35687  \n",
       "\n",
       "[5 rows x 4485 columns]"
      ]
     },
     "execution_count": 28,
     "metadata": {},
     "output_type": "execute_result"
    }
   ],
   "source": [
    "test_df.head()"
   ]
  },
  {
   "cell_type": "markdown",
   "metadata": {},
   "source": [
    "## 3) Perform Analysis on Data "
   ]
  },
  {
   "cell_type": "markdown",
   "metadata": {},
   "source": [
    "#### a) How many recipes of each Cuisine are there in the Dataset "
   ]
  },
  {
   "cell_type": "code",
   "execution_count": 29,
   "metadata": {},
   "outputs": [],
   "source": [
    "freq_of_cuisines=train_df.groupby(\"cuisine\")[\"cuisine\"] \\\n",
    "    .count() \\\n",
    "    .reset_index(name= \"Number_of_Recipes\") \\\n",
    "    .sort_values(by = \"Number_of_Recipes\", ascending = False)"
   ]
  },
  {
   "cell_type": "code",
   "execution_count": 30,
   "metadata": {},
   "outputs": [
    {
     "data": {
      "text/plain": [
       "7838"
      ]
     },
     "execution_count": 30,
     "metadata": {},
     "output_type": "execute_result"
    }
   ],
   "source": [
    "freq_of_cuisines[\"Number_of_Recipes\"].max()"
   ]
  },
  {
   "cell_type": "code",
   "execution_count": 31,
   "metadata": {},
   "outputs": [
    {
     "data": {
      "text/html": [
       "\n",
       "\n",
       "\n",
       "\n",
       "\n",
       "\n",
       "  <div class=\"bk-root\" id=\"0054ce5d-9ed7-43b8-9cd0-22eed05e9020\"></div>\n"
      ]
     },
     "metadata": {},
     "output_type": "display_data"
    },
    {
     "data": {
      "application/javascript": [
       "(function(root) {\n",
       "  function embed_document(root) {\n",
       "    \n",
       "  var docs_json = {\"801f7886-cc5d-4341-9064-e6d6bb1419e6\":{\"roots\":{\"references\":[{\"attributes\":{\"below\":[{\"id\":\"1013\",\"type\":\"CategoricalAxis\"}],\"left\":[{\"id\":\"1017\",\"type\":\"LinearAxis\"}],\"plot_height\":650,\"plot_width\":700,\"renderers\":[{\"id\":\"1013\",\"type\":\"CategoricalAxis\"},{\"id\":\"1016\",\"type\":\"Grid\"},{\"id\":\"1017\",\"type\":\"LinearAxis\"},{\"id\":\"1021\",\"type\":\"Grid\"},{\"id\":\"1030\",\"type\":\"BoxAnnotation\"},{\"id\":\"1042\",\"type\":\"GlyphRenderer\"}],\"title\":{\"id\":\"1002\",\"type\":\"Title\"},\"toolbar\":{\"id\":\"1028\",\"type\":\"Toolbar\"},\"x_range\":{\"id\":\"1005\",\"type\":\"FactorRange\"},\"x_scale\":{\"id\":\"1009\",\"type\":\"CategoricalScale\"},\"y_range\":{\"id\":\"1007\",\"type\":\"Range1d\"},\"y_scale\":{\"id\":\"1011\",\"type\":\"LinearScale\"}},\"id\":\"1003\",\"subtype\":\"Figure\",\"type\":\"Plot\"},{\"attributes\":{\"overlay\":{\"id\":\"1030\",\"type\":\"BoxAnnotation\"}},\"id\":\"1024\",\"type\":\"BoxZoomTool\"},{\"attributes\":{},\"id\":\"1025\",\"type\":\"SaveTool\"},{\"attributes\":{\"plot\":null,\"text\":\"The Number of Recipes in the Dataset by Cuisine\"},\"id\":\"1002\",\"type\":\"Title\"},{\"attributes\":{},\"id\":\"1026\",\"type\":\"ResetTool\"},{\"attributes\":{},\"id\":\"1027\",\"type\":\"HelpTool\"},{\"attributes\":{\"active_drag\":\"auto\",\"active_inspect\":\"auto\",\"active_multi\":null,\"active_scroll\":\"auto\",\"active_tap\":\"auto\",\"tools\":[{\"id\":\"1022\",\"type\":\"PanTool\"},{\"id\":\"1023\",\"type\":\"WheelZoomTool\"},{\"id\":\"1024\",\"type\":\"BoxZoomTool\"},{\"id\":\"1025\",\"type\":\"SaveTool\"},{\"id\":\"1026\",\"type\":\"ResetTool\"},{\"id\":\"1027\",\"type\":\"HelpTool\"},{\"id\":\"1044\",\"type\":\"HoverTool\"}]},\"id\":\"1028\",\"type\":\"Toolbar\"},{\"attributes\":{\"callback\":null,\"end\":10000},\"id\":\"1007\",\"type\":\"Range1d\"},{\"attributes\":{\"axis_label\":\"Cuisine\",\"formatter\":{\"id\":\"1047\",\"type\":\"CategoricalTickFormatter\"},\"major_label_orientation\":1,\"plot\":{\"id\":\"1003\",\"subtype\":\"Figure\",\"type\":\"Plot\"},\"ticker\":{\"id\":\"1014\",\"type\":\"CategoricalTicker\"}},\"id\":\"1013\",\"type\":\"CategoricalAxis\"},{\"attributes\":{\"bottom_units\":\"screen\",\"fill_alpha\":{\"value\":0.5},\"fill_color\":{\"value\":\"lightgrey\"},\"left_units\":\"screen\",\"level\":\"overlay\",\"line_alpha\":{\"value\":1.0},\"line_color\":{\"value\":\"black\"},\"line_dash\":[4,4],\"line_width\":{\"value\":2},\"plot\":null,\"render_mode\":\"css\",\"right_units\":\"screen\",\"top_units\":\"screen\"},\"id\":\"1030\",\"type\":\"BoxAnnotation\"},{\"attributes\":{},\"id\":\"1009\",\"type\":\"CategoricalScale\"},{\"attributes\":{\"callback\":null,\"factors\":[\"italian\",\"mexican\",\"southern_us\",\"indian\",\"chinese\",\"french\",\"cajun_creole\",\"thai\",\"japanese\",\"greek\",\"spanish\",\"korean\",\"vietnamese\",\"moroccan\",\"british\",\"filipino\",\"irish\",\"jamaican\",\"russian\",\"brazilian\"]},\"id\":\"1005\",\"type\":\"FactorRange\"},{\"attributes\":{},\"id\":\"1014\",\"type\":\"CategoricalTicker\"},{\"attributes\":{\"fill_color\":{\"value\":\"black\"},\"top\":{\"field\":\"Number_of_Recipes\"},\"width\":{\"value\":1},\"x\":{\"field\":\"cuisine\"}},\"id\":\"1041\",\"type\":\"VBar\"},{\"attributes\":{\"plot\":{\"id\":\"1003\",\"subtype\":\"Figure\",\"type\":\"Plot\"},\"ticker\":{\"id\":\"1014\",\"type\":\"CategoricalTicker\"}},\"id\":\"1016\",\"type\":\"Grid\"},{\"attributes\":{\"data_source\":{\"id\":\"1037\",\"type\":\"ColumnDataSource\"},\"glyph\":{\"id\":\"1039\",\"type\":\"VBar\"},\"hover_glyph\":{\"id\":\"1041\",\"type\":\"VBar\"},\"muted_glyph\":null,\"nonselection_glyph\":{\"id\":\"1040\",\"type\":\"VBar\"},\"selection_glyph\":null,\"view\":{\"id\":\"1043\",\"type\":\"CDSView\"}},\"id\":\"1042\",\"type\":\"GlyphRenderer\"},{\"attributes\":{},\"id\":\"1011\",\"type\":\"LinearScale\"},{\"attributes\":{\"axis_label\":\"Number of Recipes\",\"formatter\":{\"id\":\"1049\",\"type\":\"BasicTickFormatter\"},\"plot\":{\"id\":\"1003\",\"subtype\":\"Figure\",\"type\":\"Plot\"},\"ticker\":{\"id\":\"1018\",\"type\":\"BasicTicker\"}},\"id\":\"1017\",\"type\":\"LinearAxis\"},{\"attributes\":{\"source\":{\"id\":\"1037\",\"type\":\"ColumnDataSource\"}},\"id\":\"1043\",\"type\":\"CDSView\"},{\"attributes\":{},\"id\":\"1018\",\"type\":\"BasicTicker\"},{\"attributes\":{},\"id\":\"1047\",\"type\":\"CategoricalTickFormatter\"},{\"attributes\":{\"dimension\":1,\"plot\":{\"id\":\"1003\",\"subtype\":\"Figure\",\"type\":\"Plot\"},\"ticker\":{\"id\":\"1018\",\"type\":\"BasicTicker\"}},\"id\":\"1021\",\"type\":\"Grid\"},{\"attributes\":{},\"id\":\"1052\",\"type\":\"UnionRenderers\"},{\"attributes\":{},\"id\":\"1049\",\"type\":\"BasicTickFormatter\"},{\"attributes\":{},\"id\":\"1053\",\"type\":\"Selection\"},{\"attributes\":{\"fill_alpha\":{\"value\":0.1},\"fill_color\":{\"value\":\"#1f77b4\"},\"line_alpha\":{\"value\":0.1},\"line_color\":{\"value\":\"#1f77b4\"},\"top\":{\"field\":\"Number_of_Recipes\"},\"width\":{\"value\":1},\"x\":{\"field\":\"cuisine\"}},\"id\":\"1040\",\"type\":\"VBar\"},{\"attributes\":{\"callback\":null,\"tooltips\":[[\"Cuisine\",\"@cuisine\"],[\"Number of Recipes\",\"@Number_of_Recipes\"]]},\"id\":\"1044\",\"type\":\"HoverTool\"},{\"attributes\":{\"fill_color\":{\"value\":\"#1f77b4\"},\"top\":{\"field\":\"Number_of_Recipes\"},\"width\":{\"value\":1},\"x\":{\"field\":\"cuisine\"}},\"id\":\"1039\",\"type\":\"VBar\"},{\"attributes\":{},\"id\":\"1022\",\"type\":\"PanTool\"},{\"attributes\":{\"callback\":null,\"data\":{\"Number_of_Recipes\":[7838,6438,4320,3003,2673,2646,1546,1539,1423,1175,989,830,825,821,804,755,667,526,489,467],\"cuisine\":[\"italian\",\"mexican\",\"southern_us\",\"indian\",\"chinese\",\"french\",\"cajun_creole\",\"thai\",\"japanese\",\"greek\",\"spanish\",\"korean\",\"vietnamese\",\"moroccan\",\"british\",\"filipino\",\"irish\",\"jamaican\",\"russian\",\"brazilian\"],\"index\":[9,13,16,7,3,5,2,18,11,6,17,12,19,14,1,4,8,10,15,0]},\"selected\":{\"id\":\"1053\",\"type\":\"Selection\"},\"selection_policy\":{\"id\":\"1052\",\"type\":\"UnionRenderers\"}},\"id\":\"1037\",\"type\":\"ColumnDataSource\"},{\"attributes\":{},\"id\":\"1023\",\"type\":\"WheelZoomTool\"}],\"root_ids\":[\"1003\"]},\"title\":\"Bokeh Application\",\"version\":\"1.0.2\"}};\n",
       "  var render_items = [{\"docid\":\"801f7886-cc5d-4341-9064-e6d6bb1419e6\",\"roots\":{\"1003\":\"0054ce5d-9ed7-43b8-9cd0-22eed05e9020\"}}];\n",
       "  root.Bokeh.embed.embed_items_notebook(docs_json, render_items);\n",
       "\n",
       "  }\n",
       "  if (root.Bokeh !== undefined) {\n",
       "    embed_document(root);\n",
       "  } else {\n",
       "    var attempts = 0;\n",
       "    var timer = setInterval(function(root) {\n",
       "      if (root.Bokeh !== undefined) {\n",
       "        embed_document(root);\n",
       "        clearInterval(timer);\n",
       "      }\n",
       "      attempts++;\n",
       "      if (attempts > 100) {\n",
       "        console.log(\"Bokeh: ERROR: Unable to run BokehJS code because BokehJS library is missing\");\n",
       "        clearInterval(timer);\n",
       "      }\n",
       "    }, 10, root)\n",
       "  }\n",
       "})(window);"
      ],
      "application/vnd.bokehjs_exec.v0+json": ""
     },
     "metadata": {
      "application/vnd.bokehjs_exec.v0+json": {
       "id": "1003"
      }
     },
     "output_type": "display_data"
    }
   ],
   "source": [
    "select_tools = ['box_select', 'lasso_select', 'poly_select', 'tap', 'reset']\n",
    "p = figure(y_range = (0,10000), \n",
    "           x_range = (list(freq_of_cuisines[\"cuisine\"])),\n",
    "           plot_height=650,\n",
    "           plot_width=700,\n",
    "           x_axis_label='Cuisine',\n",
    "           y_axis_label='Number of Recipes',\n",
    "           title='''The Number of Recipes in the Dataset by Cuisine''',\n",
    "          )\n",
    "\n",
    "p.vbar(x='cuisine', top='Number_of_Recipes', width=1, \n",
    "       source = freq_of_cuisines, line_color= \"black\", hover_color=\"black\")\n",
    "p.xaxis.major_label_orientation = 1\n",
    "\n",
    "tooltips = [\n",
    "            ('Cuisine','@cuisine'),\n",
    "            ('Number of Recipes','@Number_of_Recipes')\n",
    "           ]\n",
    "\n",
    "# Add the HoverTool to the figure\n",
    "p.add_tools(HoverTool(tooltips=tooltips))\n",
    "\n",
    "show(p)"
   ]
  },
  {
   "cell_type": "code",
   "execution_count": 32,
   "metadata": {},
   "outputs": [
    {
     "data": {
      "text/plain": [
       "20"
      ]
     },
     "execution_count": 32,
     "metadata": {},
     "output_type": "execute_result"
    }
   ],
   "source": [
    "len(freq_of_cuisines[\"cuisine\"])"
   ]
  },
  {
   "cell_type": "markdown",
   "metadata": {},
   "source": [
    "#### Explanation: \n",
    "There are 20 different unique cuisine types in the data. 7,838 recipes in the dataset explain an Italian dish. On the other hand, only 467 recipes in the dataset explain a Brazilian dish. Therefore, due to the fact that their is many more features that explain Italian dishes, we predict it will be easier to classify the cuisines that have more feature information. For example, an Italian dish may be easier to predict than a Brazilian dish because there is more data represented for Italian dishes. Although, if the ingredients in each recipe are extremely unqiue to a particular category than our prediction may not be accurate. "
   ]
  },
  {
   "cell_type": "markdown",
   "metadata": {},
   "source": [
    "#### b) Which Ingredients are used the most frequently in recipes regardless of the cuisine category.  "
   ]
  },
  {
   "cell_type": "code",
   "execution_count": 33,
   "metadata": {},
   "outputs": [],
   "source": [
    "no_cuisine=train_df.drop(\"cuisine\",axis = 1)"
   ]
  },
  {
   "cell_type": "code",
   "execution_count": 34,
   "metadata": {},
   "outputs": [],
   "source": [
    "sum_of_ingredients = no_cuisine.sum(axis = 0) \\\n",
    "    .reset_index(name = \"Ingredients_Count\") \\\n",
    "    .sort_values(by = \"Ingredients_Count\", ascending = False)\n",
    "sum_of_ingredients.columns = [\"Ingredients\", \"Ingredients_Count\"]"
   ]
  },
  {
   "cell_type": "code",
   "execution_count": 35,
   "metadata": {},
   "outputs": [],
   "source": [
    "top_50_ingredients = sum_of_ingredients.head(50)"
   ]
  },
  {
   "cell_type": "code",
   "execution_count": 36,
   "metadata": {},
   "outputs": [
    {
     "data": {
      "text/html": [
       "\n",
       "\n",
       "\n",
       "\n",
       "\n",
       "\n",
       "  <div class=\"bk-root\" id=\"de860638-3a4a-41f6-a271-10474be04f8f\"></div>\n"
      ]
     },
     "metadata": {},
     "output_type": "display_data"
    },
    {
     "data": {
      "application/javascript": [
       "(function(root) {\n",
       "  function embed_document(root) {\n",
       "    \n",
       "  var docs_json = {\"1540762f-4bbf-4b9c-8c02-ed50f17f950f\":{\"roots\":{\"references\":[{\"attributes\":{\"below\":[{\"id\":\"1113\",\"type\":\"LinearAxis\"}],\"left\":[{\"id\":\"1118\",\"type\":\"CategoricalAxis\"}],\"plot_height\":650,\"plot_width\":1000,\"renderers\":[{\"id\":\"1113\",\"type\":\"LinearAxis\"},{\"id\":\"1117\",\"type\":\"Grid\"},{\"id\":\"1118\",\"type\":\"CategoricalAxis\"},{\"id\":\"1121\",\"type\":\"Grid\"},{\"id\":\"1130\",\"type\":\"BoxAnnotation\"},{\"id\":\"1142\",\"type\":\"GlyphRenderer\"}],\"title\":{\"id\":\"1102\",\"type\":\"Title\"},\"toolbar\":{\"id\":\"1128\",\"type\":\"Toolbar\"},\"x_range\":{\"id\":\"1105\",\"type\":\"Range1d\"},\"x_scale\":{\"id\":\"1109\",\"type\":\"LinearScale\"},\"y_range\":{\"id\":\"1107\",\"type\":\"FactorRange\"},\"y_scale\":{\"id\":\"1111\",\"type\":\"CategoricalScale\"}},\"id\":\"1103\",\"subtype\":\"Figure\",\"type\":\"Plot\"},{\"attributes\":{\"plot\":null,\"text\":\"The Top 50 Most Popular Ingredients Across All Cuisines \"},\"id\":\"1102\",\"type\":\"Title\"},{\"attributes\":{},\"id\":\"1111\",\"type\":\"CategoricalScale\"},{\"attributes\":{},\"id\":\"1127\",\"type\":\"HelpTool\"},{\"attributes\":{\"callback\":null,\"end\":20000},\"id\":\"1105\",\"type\":\"Range1d\"},{\"attributes\":{\"active_drag\":\"auto\",\"active_inspect\":\"auto\",\"active_multi\":null,\"active_scroll\":\"auto\",\"active_tap\":\"auto\",\"tools\":[{\"id\":\"1122\",\"type\":\"PanTool\"},{\"id\":\"1123\",\"type\":\"WheelZoomTool\"},{\"id\":\"1124\",\"type\":\"BoxZoomTool\"},{\"id\":\"1125\",\"type\":\"SaveTool\"},{\"id\":\"1126\",\"type\":\"ResetTool\"},{\"id\":\"1127\",\"type\":\"HelpTool\"},{\"id\":\"1144\",\"type\":\"HoverTool\"}]},\"id\":\"1128\",\"type\":\"Toolbar\"},{\"attributes\":{\"axis_label\":\"Ingredient Counts\",\"formatter\":{\"id\":\"1155\",\"type\":\"BasicTickFormatter\"},\"plot\":{\"id\":\"1103\",\"subtype\":\"Figure\",\"type\":\"Plot\"},\"ticker\":{\"id\":\"1114\",\"type\":\"BasicTicker\"}},\"id\":\"1113\",\"type\":\"LinearAxis\"},{\"attributes\":{\"callback\":null,\"factors\":[\"salt\",\"onions\",\"olive oil\",\"water\",\"garlic\",\"sugar\",\"garlic cloves\",\"butter\",\"ground black pepper\",\"all-purpose flour\",\"pepper\",\"vegetable oil\",\"eggs\",\"soy sauce\",\"kosher salt\",\"green onions\",\"tomatoes\",\"large eggs\",\"carrots\",\"unsalted butter\",\"extra-virgin olive oil\",\"ground cumin\",\"black pepper\",\"milk\",\"chili powder\",\"oil\",\"red bell pepper\",\"purple onion\",\"scallions\",\"grated parmesan cheese\",\"sesame oil\",\"corn starch\",\"ginger\",\"baking powder\",\"jalapeno chilies\",\"dried oregano\",\"chopped cilantro fresh\",\"fresh lemon juice\",\"diced tomatoes\",\"fresh parsley\",\"minced garlic\",\"chicken broth\",\"sour cream\",\"cayenne pepper\",\"brown sugar\",\"fresh ginger\",\"cooking spray\",\"shallots\",\"garlic powder\",\"lime\"]},\"id\":\"1107\",\"type\":\"FactorRange\"},{\"attributes\":{\"bottom_units\":\"screen\",\"fill_alpha\":{\"value\":0.5},\"fill_color\":{\"value\":\"lightgrey\"},\"left_units\":\"screen\",\"level\":\"overlay\",\"line_alpha\":{\"value\":1.0},\"line_color\":{\"value\":\"black\"},\"line_dash\":[4,4],\"line_width\":{\"value\":2},\"plot\":null,\"render_mode\":\"css\",\"right_units\":\"screen\",\"top_units\":\"screen\"},\"id\":\"1130\",\"type\":\"BoxAnnotation\"},{\"attributes\":{},\"id\":\"1109\",\"type\":\"LinearScale\"},{\"attributes\":{\"fill_alpha\":{\"value\":0.1},\"fill_color\":{\"value\":\"#1f77b4\"},\"height\":{\"value\":0.4},\"line_alpha\":{\"value\":0.1},\"line_color\":{\"value\":\"#1f77b4\"},\"right\":{\"field\":\"Ingredients_Count\"},\"y\":{\"field\":\"Ingredients\"}},\"id\":\"1140\",\"type\":\"HBar\"},{\"attributes\":{\"fill_color\":{\"value\":\"black\"},\"height\":{\"value\":0.4},\"right\":{\"field\":\"Ingredients_Count\"},\"y\":{\"field\":\"Ingredients\"}},\"id\":\"1141\",\"type\":\"HBar\"},{\"attributes\":{\"data_source\":{\"id\":\"1137\",\"type\":\"ColumnDataSource\"},\"glyph\":{\"id\":\"1139\",\"type\":\"HBar\"},\"hover_glyph\":{\"id\":\"1141\",\"type\":\"HBar\"},\"muted_glyph\":null,\"nonselection_glyph\":{\"id\":\"1140\",\"type\":\"HBar\"},\"selection_glyph\":null,\"view\":{\"id\":\"1143\",\"type\":\"CDSView\"}},\"id\":\"1142\",\"type\":\"GlyphRenderer\"},{\"attributes\":{\"source\":{\"id\":\"1137\",\"type\":\"ColumnDataSource\"}},\"id\":\"1143\",\"type\":\"CDSView\"},{\"attributes\":{\"callback\":null,\"tooltips\":[[\"Ingredient\",\"@Ingredients\"],[\"Ingredient Counts\",\"@Ingredients_Count\"]]},\"id\":\"1144\",\"type\":\"HoverTool\"},{\"attributes\":{},\"id\":\"1114\",\"type\":\"BasicTicker\"},{\"attributes\":{\"plot\":{\"id\":\"1103\",\"subtype\":\"Figure\",\"type\":\"Plot\"},\"ticker\":{\"id\":\"1114\",\"type\":\"BasicTicker\"}},\"id\":\"1117\",\"type\":\"Grid\"},{\"attributes\":{},\"id\":\"1125\",\"type\":\"SaveTool\"},{\"attributes\":{},\"id\":\"1119\",\"type\":\"CategoricalTicker\"},{\"attributes\":{},\"id\":\"1157\",\"type\":\"CategoricalTickFormatter\"},{\"attributes\":{\"dimension\":1,\"plot\":{\"id\":\"1103\",\"subtype\":\"Figure\",\"type\":\"Plot\"},\"ticker\":{\"id\":\"1119\",\"type\":\"CategoricalTicker\"}},\"id\":\"1121\",\"type\":\"Grid\"},{\"attributes\":{},\"id\":\"1160\",\"type\":\"UnionRenderers\"},{\"attributes\":{},\"id\":\"1161\",\"type\":\"Selection\"},{\"attributes\":{\"axis_label\":\"Ingredients\",\"formatter\":{\"id\":\"1157\",\"type\":\"CategoricalTickFormatter\"},\"plot\":{\"id\":\"1103\",\"subtype\":\"Figure\",\"type\":\"Plot\"},\"ticker\":{\"id\":\"1119\",\"type\":\"CategoricalTicker\"}},\"id\":\"1118\",\"type\":\"CategoricalAxis\"},{\"attributes\":{\"fill_color\":{\"value\":\"orange\"},\"height\":{\"value\":0.4},\"line_color\":{\"value\":\"orange\"},\"right\":{\"field\":\"Ingredients_Count\"},\"y\":{\"field\":\"Ingredients\"}},\"id\":\"1139\",\"type\":\"HBar\"},{\"attributes\":{},\"id\":\"1126\",\"type\":\"ResetTool\"},{\"attributes\":{},\"id\":\"1155\",\"type\":\"BasicTickFormatter\"},{\"attributes\":{\"callback\":null,\"data\":{\"Ingredients\":[\"salt\",\"onions\",\"olive oil\",\"water\",\"garlic\",\"sugar\",\"garlic cloves\",\"butter\",\"ground black pepper\",\"all-purpose flour\",\"pepper\",\"vegetable oil\",\"eggs\",\"soy sauce\",\"kosher salt\",\"green onions\",\"tomatoes\",\"large eggs\",\"carrots\",\"unsalted butter\",\"extra-virgin olive oil\",\"ground cumin\",\"black pepper\",\"milk\",\"chili powder\",\"oil\",\"red bell pepper\",\"purple onion\",\"scallions\",\"grated parmesan cheese\",\"sesame oil\",\"corn starch\",\"ginger\",\"baking powder\",\"jalapeno chilies\",\"dried oregano\",\"chopped cilantro fresh\",\"fresh lemon juice\",\"diced tomatoes\",\"fresh parsley\",\"minced garlic\",\"chicken broth\",\"sour cream\",\"cayenne pepper\",\"brown sugar\",\"fresh ginger\",\"cooking spray\",\"shallots\",\"garlic powder\",\"lime\"],\"Ingredients_Count\":[18048,7972,7971,7457,7380,6434,6236,4847,4784,4632,4438,4385,3388,3296,3113,3078,3058,2948,2814,2782,2747,2747,2627,2263,2036,1970,1939,1896,1891,1885,1773,1757,1755,1738,1730,1706,1698,1679,1623,1604,1583,1554,1538,1523,1503,1503,1490,1477,1442,1439],\"index\":[5647,3488,2101,3442,3568,5590,183,435,4310,1586,3535,3679,3861,5377,2744,6029,486,5426,3174,5222,4603,2552,5683,4237,6176,4949,1271,2765,481,5851,0,5078,3526,2660,5192,1986,3103,4730,3257,5969,2636,3960,5562,3202,5903,1321,694,551,1163,4702]},\"selected\":{\"id\":\"1161\",\"type\":\"Selection\"},\"selection_policy\":{\"id\":\"1160\",\"type\":\"UnionRenderers\"}},\"id\":\"1137\",\"type\":\"ColumnDataSource\"},{\"attributes\":{},\"id\":\"1122\",\"type\":\"PanTool\"},{\"attributes\":{},\"id\":\"1123\",\"type\":\"WheelZoomTool\"},{\"attributes\":{\"overlay\":{\"id\":\"1130\",\"type\":\"BoxAnnotation\"}},\"id\":\"1124\",\"type\":\"BoxZoomTool\"}],\"root_ids\":[\"1103\"]},\"title\":\"Bokeh Application\",\"version\":\"1.0.2\"}};\n",
       "  var render_items = [{\"docid\":\"1540762f-4bbf-4b9c-8c02-ed50f17f950f\",\"roots\":{\"1103\":\"de860638-3a4a-41f6-a271-10474be04f8f\"}}];\n",
       "  root.Bokeh.embed.embed_items_notebook(docs_json, render_items);\n",
       "\n",
       "  }\n",
       "  if (root.Bokeh !== undefined) {\n",
       "    embed_document(root);\n",
       "  } else {\n",
       "    var attempts = 0;\n",
       "    var timer = setInterval(function(root) {\n",
       "      if (root.Bokeh !== undefined) {\n",
       "        embed_document(root);\n",
       "        clearInterval(timer);\n",
       "      }\n",
       "      attempts++;\n",
       "      if (attempts > 100) {\n",
       "        console.log(\"Bokeh: ERROR: Unable to run BokehJS code because BokehJS library is missing\");\n",
       "        clearInterval(timer);\n",
       "      }\n",
       "    }, 10, root)\n",
       "  }\n",
       "})(window);"
      ],
      "application/vnd.bokehjs_exec.v0+json": ""
     },
     "metadata": {
      "application/vnd.bokehjs_exec.v0+json": {
       "id": "1103"
      }
     },
     "output_type": "display_data"
    }
   ],
   "source": [
    "select_tools = ['box_select', 'lasso_select', 'poly_select', 'tap', 'reset']\n",
    "p = figure(y_range =list(top_50_ingredients[\"Ingredients\"]),\n",
    "           x_range = (0,20000), \n",
    "           #x_range = (list(top_50_ingredients[\"Ingredients\"])),\n",
    "           plot_height=650,\n",
    "           plot_width=1000,\n",
    "           x_axis_label='Ingredient Counts',\n",
    "           y_axis_label='Ingredients',\n",
    "           title='''The Top 50 Most Popular Ingredients Across All Cuisines ''',\n",
    "          )\n",
    "\n",
    "p.hbar( y='Ingredients', right= \"Ingredients_Count\", left = 0, height = 0.4, color = \"orange\",  hover_color=\"black\",\n",
    "       source = top_50_ingredients)\n",
    "\n",
    "\n",
    "tooltips = [\n",
    "            ('Ingredient','@Ingredients'),\n",
    "            ('Ingredient Counts','@Ingredients_Count')\n",
    "           ]\n",
    "\n",
    "# Add the HoverTool to the figure\n",
    "p.add_tools(HoverTool(tooltips=tooltips))\n",
    "\n",
    "show(p)"
   ]
  },
  {
   "cell_type": "markdown",
   "metadata": {},
   "source": [
    "##### Explanation: \n",
    "Salt is the most ingredient used across all cuisines in the data. The ingredient is used in 18,048 different recipes. Onions and Olive oli the next most used ingredients across all different cuisines. Onions are used in 7,972 recipes and Olive Oil is used 7,971 different recipes. "
   ]
  },
  {
   "cell_type": "markdown",
   "metadata": {},
   "source": [
    "#### c) How frequent is the top 3 ingredients used across all 20 cuisines . "
   ]
  },
  {
   "cell_type": "code",
   "execution_count": 37,
   "metadata": {},
   "outputs": [],
   "source": [
    "top_three_ingredients =sum_of_ingredients.head(3)"
   ]
  },
  {
   "cell_type": "code",
   "execution_count": 38,
   "metadata": {},
   "outputs": [],
   "source": [
    "top_3 = list(top_three_ingredients[\"Ingredients\"].values)"
   ]
  },
  {
   "cell_type": "code",
   "execution_count": 39,
   "metadata": {},
   "outputs": [
    {
     "data": {
      "text/plain": [
       "['salt', 'onions', 'olive oil']"
      ]
     },
     "execution_count": 39,
     "metadata": {},
     "output_type": "execute_result"
    }
   ],
   "source": [
    "top_3"
   ]
  },
  {
   "cell_type": "code",
   "execution_count": 40,
   "metadata": {},
   "outputs": [],
   "source": [
    "label_1 = \"{}_freq\".format(top_3[0])\n",
    "label_2 =  \"{}_freq\".format(top_3[1])\n",
    "label_3 =  \"{}_freq\".format(top_3[2])"
   ]
  },
  {
   "cell_type": "code",
   "execution_count": 41,
   "metadata": {},
   "outputs": [],
   "source": [
    "freq_of_cuisine_ingredients =train_df.groupby([\"cuisine\"])[top_3[0]] \\\n",
    "    .sum() \\\n",
    "    .reset_index(name=\"count\") \\\n",
    "    .sort_values(by = \"count\", ascending = False)\n"
   ]
  },
  {
   "cell_type": "code",
   "execution_count": 42,
   "metadata": {},
   "outputs": [],
   "source": [
    "freq_of_cuisine_ingredients[\"ingredient\"] = [ top_3[0] for x in freq_of_cuisine_ingredients[\"cuisine\"]]"
   ]
  },
  {
   "cell_type": "code",
   "execution_count": 43,
   "metadata": {},
   "outputs": [],
   "source": [
    "freq_of_cuisine_2_ingredients =train_df.groupby(\"cuisine\")[top_3[1]] \\\n",
    "    .sum() \\\n",
    "    .reset_index(name=\"count\") \\\n",
    "    .sort_values(by = \"count\" , ascending = False)"
   ]
  },
  {
   "cell_type": "code",
   "execution_count": 44,
   "metadata": {},
   "outputs": [],
   "source": [
    "freq_of_cuisine_2_ingredients[\"ingredient\"] = [top_3[1] for x in freq_of_cuisine_ingredients[\"cuisine\"]] "
   ]
  },
  {
   "cell_type": "code",
   "execution_count": 45,
   "metadata": {},
   "outputs": [],
   "source": [
    "freq_of_cuisine_3_ingredients =train_df.groupby(\"cuisine\")[top_3[2]] \\\n",
    "    .sum() \\\n",
    "    .reset_index(name=label_3) \\\n",
    "    .sort_values(by = label_3 , ascending = False)"
   ]
  },
  {
   "cell_type": "markdown",
   "metadata": {},
   "source": [
    "#### c) Compare the number of rows and columns of the train data with the test data"
   ]
  },
  {
   "cell_type": "code",
   "execution_count": 46,
   "metadata": {},
   "outputs": [
    {
     "data": {
      "text/plain": [
       "(39774, 6715)"
      ]
     },
     "execution_count": 46,
     "metadata": {},
     "output_type": "execute_result"
    }
   ],
   "source": [
    "train_df.shape"
   ]
  },
  {
   "cell_type": "code",
   "execution_count": 47,
   "metadata": {},
   "outputs": [
    {
     "data": {
      "text/plain": [
       "(9944, 4485)"
      ]
     },
     "execution_count": 47,
     "metadata": {},
     "output_type": "execute_result"
    }
   ],
   "source": [
    "test_df.shape"
   ]
  },
  {
   "cell_type": "markdown",
   "metadata": {},
   "source": [
    "##### Explanation: \n",
    "The train_df DataFrame has 39774 rows and 6715 columns. The test_df DataFrame has 9944 rows and 4485 columns. The different shapes of the datasets demonstrate a challenge that will occur later on of using the model created for train dataset to predict labels for the test dataset. "
   ]
  },
  {
   "cell_type": "markdown",
   "metadata": {},
   "source": [
    "## 4) Split train data DataFrame, called train_df, into variables X and y. \n",
    "\n",
    "X is all the variables, in this case ingredients, that will be used to predict the type of cuisine. \n",
    "\n",
    "The variable y is the categorical variable cuisine. \n",
    "\n",
    "- X is the features, in this case ingredients, that will be used to try and figure out the classification. \n",
    "- The values of variable y is what we are trying to predict in this challenge: the type of cuisine given ingredients. "
   ]
  },
  {
   "cell_type": "code",
   "execution_count": 48,
   "metadata": {},
   "outputs": [],
   "source": [
    "y = train_df[\"cuisine\"]\n",
    "X = train_df.drop(\"cuisine\", axis = 1) #all variables \n",
    "\n",
    "# first do model then PCA if not \n",
    "#first do PCA "
   ]
  },
  {
   "cell_type": "markdown",
   "metadata": {},
   "source": [
    "## 5) Assign all the ingredients from the test data DataFrame, called test_df, to the variable X_test. \n",
    "\n",
    "X_test is all the variables, in this case ingredients, that will be used to predict the type of cuisine. I am going to drop \"id\". \n",
    "\n",
    "- X_test is the features, in this case ingredients, that will be used to try and figure out the classification.  "
   ]
  },
  {
   "cell_type": "code",
   "execution_count": 49,
   "metadata": {},
   "outputs": [],
   "source": [
    "X_test = test_df.drop(\"id\", axis = 1)"
   ]
  },
  {
   "cell_type": "markdown",
   "metadata": {},
   "source": [
    "## 6) Create a Decision Tree Classifier using the package called sklearn on the train data"
   ]
  },
  {
   "cell_type": "code",
   "execution_count": 50,
   "metadata": {},
   "outputs": [],
   "source": [
    "model = DecisionTreeClassifier(\n",
    "    random_state=3, \n",
    "    criterion='entropy',\n",
    "    splitter='best', \n",
    "    max_depth=5, \n",
    "    min_samples_split=2)\n"
   ]
  },
  {
   "cell_type": "markdown",
   "metadata": {},
   "source": [
    "#### a) Using the Decision Tree Classifier created, called model, fit the data using the train data: X and y. "
   ]
  },
  {
   "cell_type": "code",
   "execution_count": 51,
   "metadata": {},
   "outputs": [
    {
     "data": {
      "text/plain": [
       "DecisionTreeClassifier(class_weight=None, criterion='entropy', max_depth=5,\n",
       "            max_features=None, max_leaf_nodes=None,\n",
       "            min_impurity_decrease=0.0, min_impurity_split=None,\n",
       "            min_samples_leaf=1, min_samples_split=2,\n",
       "            min_weight_fraction_leaf=0.0, presort=False, random_state=3,\n",
       "            splitter='best')"
      ]
     },
     "execution_count": 51,
     "metadata": {},
     "output_type": "execute_result"
    }
   ],
   "source": [
    "model.fit(X,y)\n"
   ]
  },
  {
   "cell_type": "markdown",
   "metadata": {},
   "source": [
    "#### b) Perform cross validation using the Decision Tree Classifier object, called model, and the train data, called X and y, to get an accuracy score for this model.  "
   ]
  },
  {
   "cell_type": "code",
   "execution_count": 52,
   "metadata": {},
   "outputs": [],
   "source": [
    "scores_Decision_Tree = cross_val_score(model, X,y, cv=5)\n"
   ]
  },
  {
   "cell_type": "code",
   "execution_count": 53,
   "metadata": {},
   "outputs": [
    {
     "name": "stdout",
     "output_type": "stream",
     "text": [
      "Accuracy: 0.31 (+/- 0.00)\n"
     ]
    }
   ],
   "source": [
    "#Get an accuracy score using the mean and standard deviation multiplied by 2\n",
    "print(\"Accuracy: %0.2f (+/- %0.2f)\" % (scores_Decision_Tree.mean(), scores_Decision_Tree.std() * 2))"
   ]
  },
  {
   "cell_type": "markdown",
   "metadata": {},
   "source": [
    "##### Explanation: \n",
    "The Decision Tree has an accuracy of 31 percent. This is pretty bad model; therefore, a different type of classifer should be used to try and classify the ingredients. In Step 6, a Random Forest Classifer is created to try and increase the accuracy score. "
   ]
  },
  {
   "cell_type": "markdown",
   "metadata": {},
   "source": [
    "#### c) Perform cross validation predict using the Decision Tree Classifier object, called model, and the train data, called X and y, to get a prediction of labels for the each recipe. "
   ]
  },
  {
   "cell_type": "code",
   "execution_count": 54,
   "metadata": {},
   "outputs": [],
   "source": [
    "y_pred = cross_val_predict(model, X, y, cv=3)"
   ]
  },
  {
   "cell_type": "code",
   "execution_count": 55,
   "metadata": {},
   "outputs": [
    {
     "data": {
      "text/plain": [
       "array(['mexican', 'mexican', 'chinese', ..., 'mexican', 'mexican',\n",
       "       'mexican'], dtype=object)"
      ]
     },
     "execution_count": 55,
     "metadata": {},
     "output_type": "execute_result"
    }
   ],
   "source": [
    "y_pred"
   ]
  },
  {
   "cell_type": "code",
   "execution_count": 56,
   "metadata": {},
   "outputs": [],
   "source": [
    "\n",
    "from sklearn.metrics import classification_report, confusion_matrix\n",
    "#print(confusion_matrix(y, y_pred))\n",
    "cr = classification_report(y, y_pred)\n"
   ]
  },
  {
   "cell_type": "code",
   "execution_count": 57,
   "metadata": {},
   "outputs": [
    {
     "name": "stdout",
     "output_type": "stream",
     "text": [
      "              precision    recall  f1-score   support\n",
      "\n",
      "   brazilian       0.00      0.00      0.00       467\n",
      "     british       0.00      0.00      0.00       804\n",
      "cajun_creole       0.00      0.00      0.00      1546\n",
      "     chinese       0.47      0.50      0.48      2673\n",
      "    filipino       0.81      0.10      0.17       755\n",
      "      french       0.00      0.00      0.00      2646\n",
      "       greek       0.00      0.00      0.00      1175\n",
      "      indian       0.84      0.13      0.23      3003\n",
      "       irish       0.00      0.00      0.00       667\n",
      "     italian       0.47      0.56      0.51      7838\n",
      "    jamaican       0.00      0.00      0.00       526\n",
      "    japanese       0.84      0.17      0.28      1423\n",
      "      korean       0.60      0.06      0.11       830\n",
      "     mexican       0.21      0.84      0.34      6438\n",
      "    moroccan       0.00      0.00      0.00       821\n",
      "     russian       0.00      0.00      0.00       489\n",
      " southern_us       0.00      0.00      0.00      4320\n",
      "     spanish       0.00      0.00      0.00       989\n",
      "        thai       0.55      0.36      0.43      1539\n",
      "  vietnamese       0.55      0.05      0.09       825\n",
      "\n",
      "   micro avg       0.31      0.31      0.31     39774\n",
      "   macro avg       0.27      0.14      0.13     39774\n",
      "weighted avg       0.31      0.31      0.24     39774\n",
      "\n"
     ]
    }
   ],
   "source": [
    "print(cr)"
   ]
  },
  {
   "cell_type": "code",
   "execution_count": 58,
   "metadata": {},
   "outputs": [],
   "source": [
    "# confusion_matrix(y, y_pred)"
   ]
  },
  {
   "cell_type": "markdown",
   "metadata": {},
   "source": [
    "##### Explanation: \n",
    "The model is 31 percent accurate, which is very bad. f1-score is a weighted average of precision and recall, which measures the test's accuracy. Italian is 51 percent accurate"
   ]
  },
  {
   "cell_type": "markdown",
   "metadata": {},
   "source": [
    "#### d) Create a visualization of the Decision Tree Classifer and export the result as a PNG called cuisine.png"
   ]
  },
  {
   "cell_type": "code",
   "execution_count": 62,
   "metadata": {},
   "outputs": [
    {
     "ename": "InvocationException",
     "evalue": "GraphViz's executables not found",
     "output_type": "error",
     "traceback": [
      "\u001b[0;31m---------------------------------------------------------------------------\u001b[0m",
      "\u001b[0;31mInvocationException\u001b[0m                       Traceback (most recent call last)",
      "\u001b[0;32m<ipython-input-62-129e55e10cc2>\u001b[0m in \u001b[0;36m<module>\u001b[0;34m\u001b[0m\n\u001b[1;32m      8\u001b[0m \u001b[0;34m\u001b[0m\u001b[0m\n\u001b[1;32m      9\u001b[0m \u001b[0mgraph\u001b[0m \u001b[0;34m=\u001b[0m \u001b[0mpydotplus\u001b[0m\u001b[0;34m.\u001b[0m\u001b[0mgraphviz\u001b[0m\u001b[0;34m.\u001b[0m\u001b[0mgraph_from_dot_data\u001b[0m\u001b[0;34m(\u001b[0m\u001b[0mdot_data\u001b[0m\u001b[0;34m)\u001b[0m\u001b[0;34m\u001b[0m\u001b[0;34m\u001b[0m\u001b[0m\n\u001b[0;32m---> 10\u001b[0;31m \u001b[0mImage\u001b[0m\u001b[0;34m(\u001b[0m\u001b[0mgraph\u001b[0m\u001b[0;34m.\u001b[0m\u001b[0mcreate_png\u001b[0m\u001b[0;34m(\u001b[0m\u001b[0;34m)\u001b[0m\u001b[0;34m)\u001b[0m\u001b[0;34m\u001b[0m\u001b[0;34m\u001b[0m\u001b[0m\n\u001b[0m",
      "\u001b[0;32m/anaconda3/lib/python3.7/site-packages/pydotplus/graphviz.py\u001b[0m in \u001b[0;36m<lambda>\u001b[0;34m(f, prog)\u001b[0m\n\u001b[1;32m   1795\u001b[0m             self.__setattr__(\n\u001b[1;32m   1796\u001b[0m                 \u001b[0;34m'create_'\u001b[0m \u001b[0;34m+\u001b[0m \u001b[0mfrmt\u001b[0m\u001b[0;34m,\u001b[0m\u001b[0;34m\u001b[0m\u001b[0;34m\u001b[0m\u001b[0m\n\u001b[0;32m-> 1797\u001b[0;31m                 \u001b[0;32mlambda\u001b[0m \u001b[0mf\u001b[0m\u001b[0;34m=\u001b[0m\u001b[0mfrmt\u001b[0m\u001b[0;34m,\u001b[0m \u001b[0mprog\u001b[0m\u001b[0;34m=\u001b[0m\u001b[0mself\u001b[0m\u001b[0;34m.\u001b[0m\u001b[0mprog\u001b[0m\u001b[0;34m:\u001b[0m \u001b[0mself\u001b[0m\u001b[0;34m.\u001b[0m\u001b[0mcreate\u001b[0m\u001b[0;34m(\u001b[0m\u001b[0mformat\u001b[0m\u001b[0;34m=\u001b[0m\u001b[0mf\u001b[0m\u001b[0;34m,\u001b[0m \u001b[0mprog\u001b[0m\u001b[0;34m=\u001b[0m\u001b[0mprog\u001b[0m\u001b[0;34m)\u001b[0m\u001b[0;34m\u001b[0m\u001b[0;34m\u001b[0m\u001b[0m\n\u001b[0m\u001b[1;32m   1798\u001b[0m             )\n\u001b[1;32m   1799\u001b[0m             \u001b[0mf\u001b[0m \u001b[0;34m=\u001b[0m \u001b[0mself\u001b[0m\u001b[0;34m.\u001b[0m\u001b[0m__dict__\u001b[0m\u001b[0;34m[\u001b[0m\u001b[0;34m'create_'\u001b[0m \u001b[0;34m+\u001b[0m \u001b[0mfrmt\u001b[0m\u001b[0;34m]\u001b[0m\u001b[0;34m\u001b[0m\u001b[0;34m\u001b[0m\u001b[0m\n",
      "\u001b[0;32m/anaconda3/lib/python3.7/site-packages/pydotplus/graphviz.py\u001b[0m in \u001b[0;36mcreate\u001b[0;34m(self, prog, format)\u001b[0m\n\u001b[1;32m   1958\u001b[0m             \u001b[0;32mif\u001b[0m \u001b[0mself\u001b[0m\u001b[0;34m.\u001b[0m\u001b[0mprogs\u001b[0m \u001b[0;32mis\u001b[0m \u001b[0;32mNone\u001b[0m\u001b[0;34m:\u001b[0m\u001b[0;34m\u001b[0m\u001b[0;34m\u001b[0m\u001b[0m\n\u001b[1;32m   1959\u001b[0m                 raise InvocationException(\n\u001b[0;32m-> 1960\u001b[0;31m                     'GraphViz\\'s executables not found')\n\u001b[0m\u001b[1;32m   1961\u001b[0m \u001b[0;34m\u001b[0m\u001b[0m\n\u001b[1;32m   1962\u001b[0m         \u001b[0;32mif\u001b[0m \u001b[0mprog\u001b[0m \u001b[0;32mnot\u001b[0m \u001b[0;32min\u001b[0m \u001b[0mself\u001b[0m\u001b[0;34m.\u001b[0m\u001b[0mprogs\u001b[0m\u001b[0;34m:\u001b[0m\u001b[0;34m\u001b[0m\u001b[0;34m\u001b[0m\u001b[0m\n",
      "\u001b[0;31mInvocationException\u001b[0m: GraphViz's executables not found"
     ]
    }
   ],
   "source": [
    "dot_data = export_graphviz(model,\n",
    "    feature_names=list(X),\n",
    "    class_names=sorted(y.unique().astype(str)),\n",
    "    filled=True, \n",
    "    rounded=True, \n",
    "    special_characters=True, \n",
    "    leaves_parallel=False)\n",
    " \n",
    "graph = pydotplus.graphviz.graph_from_dot_data(dot_data)\n",
    "Image(graph.create_png())"
   ]
  },
  {
   "cell_type": "code",
   "execution_count": null,
   "metadata": {},
   "outputs": [],
   "source": [
    "graph.write_png(\"cuisine.png\")"
   ]
  },
  {
   "cell_type": "markdown",
   "metadata": {},
   "source": [
    "## 7) Create a Random Forest Classifier using the package called sklearn on the train data. "
   ]
  },
  {
   "cell_type": "code",
   "execution_count": 63,
   "metadata": {},
   "outputs": [],
   "source": [
    "rf_model = skens.RandomForestClassifier(n_estimators=10,oob_score=True, criterion='entropy')\n"
   ]
  },
  {
   "cell_type": "markdown",
   "metadata": {},
   "source": [
    "#### a) Using the Random Forest Classifier created, called rf_model, fit the data using the train data: X and y. "
   ]
  },
  {
   "cell_type": "code",
   "execution_count": 64,
   "metadata": {},
   "outputs": [
    {
     "data": {
      "text/plain": [
       "RandomForestClassifier(bootstrap=True, class_weight=None, criterion='entropy',\n",
       "            max_depth=None, max_features='auto', max_leaf_nodes=None,\n",
       "            min_impurity_decrease=0.0, min_impurity_split=None,\n",
       "            min_samples_leaf=1, min_samples_split=2,\n",
       "            min_weight_fraction_leaf=0.0, n_estimators=10, n_jobs=None,\n",
       "            oob_score=True, random_state=None, verbose=0, warm_start=False)"
      ]
     },
     "execution_count": 64,
     "metadata": {},
     "output_type": "execute_result"
    }
   ],
   "source": [
    "rf_model.fit(X,y)"
   ]
  },
  {
   "cell_type": "markdown",
   "metadata": {},
   "source": [
    "#### b)Perform cross validation using the Random Forest Classifier object, called rf_model, and the train data, called X and y, to get an accuracy score for this model. "
   ]
  },
  {
   "cell_type": "code",
   "execution_count": 65,
   "metadata": {},
   "outputs": [],
   "source": [
    "scores = cross_val_score(rf_model, X,y, cv=5) #do this 5 times and withhold info each time \n",
    "#score is the average score for each of the cross validaiton "
   ]
  },
  {
   "cell_type": "code",
   "execution_count": 66,
   "metadata": {},
   "outputs": [
    {
     "name": "stdout",
     "output_type": "stream",
     "text": [
      "Accuracy: 0.63 (+/- 0.01)\n"
     ]
    }
   ],
   "source": [
    "#Get an accuracy score using the mean and standard deviation multiplied by 2\n",
    "print(\"Accuracy: %0.2f (+/- %0.2f)\" % (scores.mean(), scores.std() * 2))"
   ]
  },
  {
   "cell_type": "markdown",
   "metadata": {},
   "source": [
    "##### Explanation: \n",
    "The accuracy of the Random Forest Classification model is 63 percent. This is much better than the Decision Tree model created above, but it is still not a great model. The reason why the accuracy score is so low is because the number of features is extremely high, making it hard to classify each cuisine. "
   ]
  },
  {
   "cell_type": "markdown",
   "metadata": {},
   "source": [
    "#### c) Perform cross validation predict using the Random Forest Classifier object, called rf_model, and the train data, called X and y, to get a prediction of labels for the each recipe. "
   ]
  },
  {
   "cell_type": "code",
   "execution_count": 67,
   "metadata": {},
   "outputs": [],
   "source": [
    "y_pred = cross_val_predict(rf_model, X, y, cv=5)"
   ]
  },
  {
   "cell_type": "code",
   "execution_count": 68,
   "metadata": {},
   "outputs": [
    {
     "data": {
      "text/plain": [
       "array(['greek', 'british', 'chinese', ..., 'southern_us', 'chinese',\n",
       "       'greek'], dtype=object)"
      ]
     },
     "execution_count": 68,
     "metadata": {},
     "output_type": "execute_result"
    }
   ],
   "source": [
    "y_pred"
   ]
  },
  {
   "cell_type": "code",
   "execution_count": 69,
   "metadata": {},
   "outputs": [],
   "source": [
    "train_df_with_predict = train_df.copy()\n",
    "train_df_with_predict[\"predicted_labels\"] = y_pred"
   ]
  },
  {
   "cell_type": "code",
   "execution_count": 70,
   "metadata": {},
   "outputs": [],
   "source": [
    "correct = train_df_with_predict[train_df_with_predict[\"cuisine\"] ==train_df_with_predict[\"predicted_labels\"]]"
   ]
  },
  {
   "cell_type": "code",
   "execution_count": 71,
   "metadata": {},
   "outputs": [],
   "source": [
    "incorrect = train_df_with_predict[train_df_with_predict[\"cuisine\"] != train_df_with_predict[\"predicted_labels\"]]"
   ]
  },
  {
   "cell_type": "code",
   "execution_count": 72,
   "metadata": {},
   "outputs": [],
   "source": [
    "correct_cuisine= correct.groupby(\"cuisine\")[\"predicted_labels\"] \\\n",
    "    .count() \\\n",
    "    .reset_index(name =\"Number_Correct\")"
   ]
  },
  {
   "cell_type": "code",
   "execution_count": 73,
   "metadata": {},
   "outputs": [],
   "source": [
    "incorrect_cuisine=incorrect.groupby(\"cuisine\")[\"predicted_labels\"] \\\n",
    "    .count() \\\n",
    "    .reset_index(name =\"Number_Incorrect\")"
   ]
  },
  {
   "cell_type": "code",
   "execution_count": 74,
   "metadata": {},
   "outputs": [],
   "source": [
    "correct_and_incorrect= incorrect_cuisine.merge(correct_cuisine, on = \"cuisine\")"
   ]
  },
  {
   "cell_type": "code",
   "execution_count": 75,
   "metadata": {},
   "outputs": [
    {
     "data": {
      "text/html": [
       "<div>\n",
       "<style scoped>\n",
       "    .dataframe tbody tr th:only-of-type {\n",
       "        vertical-align: middle;\n",
       "    }\n",
       "\n",
       "    .dataframe tbody tr th {\n",
       "        vertical-align: top;\n",
       "    }\n",
       "\n",
       "    .dataframe thead th {\n",
       "        text-align: right;\n",
       "    }\n",
       "</style>\n",
       "<table border=\"1\" class=\"dataframe\">\n",
       "  <thead>\n",
       "    <tr style=\"text-align: right;\">\n",
       "      <th></th>\n",
       "      <th>cuisine</th>\n",
       "      <th>Number_Incorrect</th>\n",
       "      <th>Number_Correct</th>\n",
       "    </tr>\n",
       "  </thead>\n",
       "  <tbody>\n",
       "    <tr>\n",
       "      <th>0</th>\n",
       "      <td>brazilian</td>\n",
       "      <td>287</td>\n",
       "      <td>180</td>\n",
       "    </tr>\n",
       "    <tr>\n",
       "      <th>1</th>\n",
       "      <td>british</td>\n",
       "      <td>641</td>\n",
       "      <td>163</td>\n",
       "    </tr>\n",
       "    <tr>\n",
       "      <th>2</th>\n",
       "      <td>cajun_creole</td>\n",
       "      <td>733</td>\n",
       "      <td>813</td>\n",
       "    </tr>\n",
       "    <tr>\n",
       "      <th>3</th>\n",
       "      <td>chinese</td>\n",
       "      <td>553</td>\n",
       "      <td>2120</td>\n",
       "    </tr>\n",
       "    <tr>\n",
       "      <th>4</th>\n",
       "      <td>filipino</td>\n",
       "      <td>439</td>\n",
       "      <td>316</td>\n",
       "    </tr>\n",
       "    <tr>\n",
       "      <th>5</th>\n",
       "      <td>french</td>\n",
       "      <td>1573</td>\n",
       "      <td>1073</td>\n",
       "    </tr>\n",
       "    <tr>\n",
       "      <th>6</th>\n",
       "      <td>greek</td>\n",
       "      <td>666</td>\n",
       "      <td>509</td>\n",
       "    </tr>\n",
       "    <tr>\n",
       "      <th>7</th>\n",
       "      <td>indian</td>\n",
       "      <td>573</td>\n",
       "      <td>2430</td>\n",
       "    </tr>\n",
       "    <tr>\n",
       "      <th>8</th>\n",
       "      <td>irish</td>\n",
       "      <td>504</td>\n",
       "      <td>163</td>\n",
       "    </tr>\n",
       "    <tr>\n",
       "      <th>9</th>\n",
       "      <td>italian</td>\n",
       "      <td>1335</td>\n",
       "      <td>6503</td>\n",
       "    </tr>\n",
       "    <tr>\n",
       "      <th>10</th>\n",
       "      <td>jamaican</td>\n",
       "      <td>381</td>\n",
       "      <td>145</td>\n",
       "    </tr>\n",
       "    <tr>\n",
       "      <th>11</th>\n",
       "      <td>japanese</td>\n",
       "      <td>718</td>\n",
       "      <td>705</td>\n",
       "    </tr>\n",
       "    <tr>\n",
       "      <th>12</th>\n",
       "      <td>korean</td>\n",
       "      <td>451</td>\n",
       "      <td>379</td>\n",
       "    </tr>\n",
       "    <tr>\n",
       "      <th>13</th>\n",
       "      <td>mexican</td>\n",
       "      <td>984</td>\n",
       "      <td>5454</td>\n",
       "    </tr>\n",
       "    <tr>\n",
       "      <th>14</th>\n",
       "      <td>moroccan</td>\n",
       "      <td>516</td>\n",
       "      <td>305</td>\n",
       "    </tr>\n",
       "    <tr>\n",
       "      <th>15</th>\n",
       "      <td>russian</td>\n",
       "      <td>424</td>\n",
       "      <td>65</td>\n",
       "    </tr>\n",
       "    <tr>\n",
       "      <th>16</th>\n",
       "      <td>southern_us</td>\n",
       "      <td>1889</td>\n",
       "      <td>2431</td>\n",
       "    </tr>\n",
       "    <tr>\n",
       "      <th>17</th>\n",
       "      <td>spanish</td>\n",
       "      <td>841</td>\n",
       "      <td>148</td>\n",
       "    </tr>\n",
       "    <tr>\n",
       "      <th>18</th>\n",
       "      <td>thai</td>\n",
       "      <td>775</td>\n",
       "      <td>764</td>\n",
       "    </tr>\n",
       "    <tr>\n",
       "      <th>19</th>\n",
       "      <td>vietnamese</td>\n",
       "      <td>550</td>\n",
       "      <td>275</td>\n",
       "    </tr>\n",
       "  </tbody>\n",
       "</table>\n",
       "</div>"
      ],
      "text/plain": [
       "         cuisine  Number_Incorrect  Number_Correct\n",
       "0      brazilian               287             180\n",
       "1        british               641             163\n",
       "2   cajun_creole               733             813\n",
       "3        chinese               553            2120\n",
       "4       filipino               439             316\n",
       "5         french              1573            1073\n",
       "6          greek               666             509\n",
       "7         indian               573            2430\n",
       "8          irish               504             163\n",
       "9        italian              1335            6503\n",
       "10      jamaican               381             145\n",
       "11      japanese               718             705\n",
       "12        korean               451             379\n",
       "13       mexican               984            5454\n",
       "14      moroccan               516             305\n",
       "15       russian               424              65\n",
       "16   southern_us              1889            2431\n",
       "17       spanish               841             148\n",
       "18          thai               775             764\n",
       "19    vietnamese               550             275"
      ]
     },
     "execution_count": 75,
     "metadata": {},
     "output_type": "execute_result"
    }
   ],
   "source": [
    "correct_and_incorrect"
   ]
  },
  {
   "cell_type": "code",
   "execution_count": 76,
   "metadata": {},
   "outputs": [
    {
     "data": {
      "text/html": [
       "\n",
       "\n",
       "\n",
       "\n",
       "\n",
       "\n",
       "  <div class=\"bk-root\" id=\"e5efd2ed-edcf-4d4c-a9b8-b265df7a7d64\"></div>\n"
      ]
     },
     "metadata": {},
     "output_type": "display_data"
    },
    {
     "data": {
      "application/javascript": [
       "(function(root) {\n",
       "  function embed_document(root) {\n",
       "    \n",
       "  var docs_json = {\"b079a457-770d-4fd3-9be5-e892ca665ed3\":{\"roots\":{\"references\":[{\"attributes\":{\"below\":[{\"id\":\"1222\",\"type\":\"CategoricalAxis\"}],\"left\":[{\"id\":\"1226\",\"type\":\"LinearAxis\"}],\"plot_height\":800,\"plot_width\":1200,\"renderers\":[{\"id\":\"1222\",\"type\":\"CategoricalAxis\"},{\"id\":\"1225\",\"type\":\"Grid\"},{\"id\":\"1226\",\"type\":\"LinearAxis\"},{\"id\":\"1230\",\"type\":\"Grid\"},{\"id\":\"1239\",\"type\":\"BoxAnnotation\"},{\"id\":\"1250\",\"type\":\"GlyphRenderer\"}],\"title\":{\"id\":\"1212\",\"type\":\"Title\"},\"toolbar\":{\"id\":\"1237\",\"type\":\"Toolbar\"},\"x_range\":{\"id\":\"1211\",\"type\":\"FactorRange\"},\"x_scale\":{\"id\":\"1218\",\"type\":\"CategoricalScale\"},\"y_range\":{\"id\":\"1216\",\"type\":\"DataRange1d\"},\"y_scale\":{\"id\":\"1220\",\"type\":\"LinearScale\"}},\"id\":\"1213\",\"subtype\":\"Figure\",\"type\":\"Plot\"},{\"attributes\":{\"fill_color\":{\"field\":\"x\",\"transform\":{\"id\":\"1246\",\"type\":\"CategoricalColorMapper\"}},\"line_color\":{\"value\":\"white\"},\"top\":{\"field\":\"counts\"},\"width\":{\"value\":1},\"x\":{\"field\":\"x\"}},\"id\":\"1248\",\"type\":\"VBar\"},{\"attributes\":{\"axis_label\":\"Number of Total Labels Predicted\",\"formatter\":{\"id\":\"1273\",\"type\":\"BasicTickFormatter\"},\"plot\":{\"id\":\"1213\",\"subtype\":\"Figure\",\"type\":\"Plot\"},\"ticker\":{\"id\":\"1227\",\"type\":\"BasicTicker\"}},\"id\":\"1226\",\"type\":\"LinearAxis\"},{\"attributes\":{\"fill_alpha\":{\"value\":0.1},\"fill_color\":{\"value\":\"#1f77b4\"},\"line_alpha\":{\"value\":0.1},\"line_color\":{\"value\":\"#1f77b4\"},\"top\":{\"field\":\"counts\"},\"width\":{\"value\":1},\"x\":{\"field\":\"x\"}},\"id\":\"1249\",\"type\":\"VBar\"},{\"attributes\":{},\"id\":\"1231\",\"type\":\"PanTool\"},{\"attributes\":{},\"id\":\"1232\",\"type\":\"WheelZoomTool\"},{\"attributes\":{\"overlay\":{\"id\":\"1239\",\"type\":\"BoxAnnotation\"}},\"id\":\"1233\",\"type\":\"BoxZoomTool\"},{\"attributes\":{},\"id\":\"1234\",\"type\":\"SaveTool\"},{\"attributes\":{\"callback\":null,\"data\":{\"counts\":[287,180,641,163,733,813,553,2120,439,316,1573,1073,666,509,573,2430,504,163,1335,6503,381,145,718,705,451,379,984,5454,516,305,424,65,1889,2431,841,148,775,764,550,275],\"x\":[[\"brazilian\",\"incorrect\"],[\"brazilian\",\"correct\"],[\"british\",\"incorrect\"],[\"british\",\"correct\"],[\"cajun_creole\",\"incorrect\"],[\"cajun_creole\",\"correct\"],[\"chinese\",\"incorrect\"],[\"chinese\",\"correct\"],[\"filipino\",\"incorrect\"],[\"filipino\",\"correct\"],[\"french\",\"incorrect\"],[\"french\",\"correct\"],[\"greek\",\"incorrect\"],[\"greek\",\"correct\"],[\"indian\",\"incorrect\"],[\"indian\",\"correct\"],[\"irish\",\"incorrect\"],[\"irish\",\"correct\"],[\"italian\",\"incorrect\"],[\"italian\",\"correct\"],[\"jamaican\",\"incorrect\"],[\"jamaican\",\"correct\"],[\"japanese\",\"incorrect\"],[\"japanese\",\"correct\"],[\"korean\",\"incorrect\"],[\"korean\",\"correct\"],[\"mexican\",\"incorrect\"],[\"mexican\",\"correct\"],[\"moroccan\",\"incorrect\"],[\"moroccan\",\"correct\"],[\"russian\",\"incorrect\"],[\"russian\",\"correct\"],[\"southern_us\",\"incorrect\"],[\"southern_us\",\"correct\"],[\"spanish\",\"incorrect\"],[\"spanish\",\"correct\"],[\"thai\",\"incorrect\"],[\"thai\",\"correct\"],[\"vietnamese\",\"incorrect\"],[\"vietnamese\",\"correct\"]]},\"selected\":{\"id\":\"1277\",\"type\":\"Selection\"},\"selection_policy\":{\"id\":\"1276\",\"type\":\"UnionRenderers\"}},\"id\":\"1210\",\"type\":\"ColumnDataSource\"},{\"attributes\":{},\"id\":\"1235\",\"type\":\"ResetTool\"},{\"attributes\":{},\"id\":\"1236\",\"type\":\"HelpTool\"},{\"attributes\":{\"callback\":null,\"tooltips\":[[\"counts\",\"@counts\"],[\"Category\",\"@x\"]]},\"id\":\"1252\",\"type\":\"HoverTool\"},{\"attributes\":{\"plot\":null,\"text\":\"Comparing Accuracy of Predicted Labels by Cuisines\"},\"id\":\"1212\",\"type\":\"Title\"},{\"attributes\":{\"active_drag\":\"auto\",\"active_inspect\":\"auto\",\"active_multi\":null,\"active_scroll\":\"auto\",\"active_tap\":\"auto\",\"tools\":[{\"id\":\"1231\",\"type\":\"PanTool\"},{\"id\":\"1232\",\"type\":\"WheelZoomTool\"},{\"id\":\"1233\",\"type\":\"BoxZoomTool\"},{\"id\":\"1234\",\"type\":\"SaveTool\"},{\"id\":\"1235\",\"type\":\"ResetTool\"},{\"id\":\"1236\",\"type\":\"HelpTool\"},{\"id\":\"1252\",\"type\":\"HoverTool\"}]},\"id\":\"1237\",\"type\":\"Toolbar\"},{\"attributes\":{\"callback\":null,\"start\":0},\"id\":\"1216\",\"type\":\"DataRange1d\"},{\"attributes\":{},\"id\":\"1271\",\"type\":\"CategoricalTickFormatter\"},{\"attributes\":{\"bottom_units\":\"screen\",\"fill_alpha\":{\"value\":0.5},\"fill_color\":{\"value\":\"lightgrey\"},\"left_units\":\"screen\",\"level\":\"overlay\",\"line_alpha\":{\"value\":1.0},\"line_color\":{\"value\":\"black\"},\"line_dash\":[4,4],\"line_width\":{\"value\":2},\"plot\":null,\"render_mode\":\"css\",\"right_units\":\"screen\",\"top_units\":\"screen\"},\"id\":\"1239\",\"type\":\"BoxAnnotation\"},{\"attributes\":{\"end\":2,\"factors\":[\"incorrect\",\"correct\"],\"palette\":[\"tomato\",\"#3CB371\"],\"start\":1},\"id\":\"1246\",\"type\":\"CategoricalColorMapper\"},{\"attributes\":{},\"id\":\"1220\",\"type\":\"LinearScale\"},{\"attributes\":{},\"id\":\"1218\",\"type\":\"CategoricalScale\"},{\"attributes\":{\"data_source\":{\"id\":\"1210\",\"type\":\"ColumnDataSource\"},\"glyph\":{\"id\":\"1248\",\"type\":\"VBar\"},\"hover_glyph\":null,\"muted_glyph\":null,\"nonselection_glyph\":{\"id\":\"1249\",\"type\":\"VBar\"},\"selection_glyph\":null,\"view\":{\"id\":\"1251\",\"type\":\"CDSView\"}},\"id\":\"1250\",\"type\":\"GlyphRenderer\"},{\"attributes\":{\"axis_label\":\"Cuisines\",\"formatter\":{\"id\":\"1271\",\"type\":\"CategoricalTickFormatter\"},\"group_label_orientation\":1,\"major_label_orientation\":1.55,\"plot\":{\"id\":\"1213\",\"subtype\":\"Figure\",\"type\":\"Plot\"},\"ticker\":{\"id\":\"1223\",\"type\":\"CategoricalTicker\"}},\"id\":\"1222\",\"type\":\"CategoricalAxis\"},{\"attributes\":{\"source\":{\"id\":\"1210\",\"type\":\"ColumnDataSource\"}},\"id\":\"1251\",\"type\":\"CDSView\"},{\"attributes\":{},\"id\":\"1223\",\"type\":\"CategoricalTicker\"},{\"attributes\":{\"grid_line_color\":{\"value\":null},\"plot\":{\"id\":\"1213\",\"subtype\":\"Figure\",\"type\":\"Plot\"},\"ticker\":{\"id\":\"1223\",\"type\":\"CategoricalTicker\"}},\"id\":\"1225\",\"type\":\"Grid\"},{\"attributes\":{\"callback\":null,\"factors\":[[\"brazilian\",\"incorrect\"],[\"brazilian\",\"correct\"],[\"british\",\"incorrect\"],[\"british\",\"correct\"],[\"cajun_creole\",\"incorrect\"],[\"cajun_creole\",\"correct\"],[\"chinese\",\"incorrect\"],[\"chinese\",\"correct\"],[\"filipino\",\"incorrect\"],[\"filipino\",\"correct\"],[\"french\",\"incorrect\"],[\"french\",\"correct\"],[\"greek\",\"incorrect\"],[\"greek\",\"correct\"],[\"indian\",\"incorrect\"],[\"indian\",\"correct\"],[\"irish\",\"incorrect\"],[\"irish\",\"correct\"],[\"italian\",\"incorrect\"],[\"italian\",\"correct\"],[\"jamaican\",\"incorrect\"],[\"jamaican\",\"correct\"],[\"japanese\",\"incorrect\"],[\"japanese\",\"correct\"],[\"korean\",\"incorrect\"],[\"korean\",\"correct\"],[\"mexican\",\"incorrect\"],[\"mexican\",\"correct\"],[\"moroccan\",\"incorrect\"],[\"moroccan\",\"correct\"],[\"russian\",\"incorrect\"],[\"russian\",\"correct\"],[\"southern_us\",\"incorrect\"],[\"southern_us\",\"correct\"],[\"spanish\",\"incorrect\"],[\"spanish\",\"correct\"],[\"thai\",\"incorrect\"],[\"thai\",\"correct\"],[\"vietnamese\",\"incorrect\"],[\"vietnamese\",\"correct\"]],\"range_padding\":0.01},\"id\":\"1211\",\"type\":\"FactorRange\"},{\"attributes\":{},\"id\":\"1273\",\"type\":\"BasicTickFormatter\"},{\"attributes\":{},\"id\":\"1227\",\"type\":\"BasicTicker\"},{\"attributes\":{},\"id\":\"1276\",\"type\":\"UnionRenderers\"},{\"attributes\":{\"dimension\":1,\"plot\":{\"id\":\"1213\",\"subtype\":\"Figure\",\"type\":\"Plot\"},\"ticker\":{\"id\":\"1227\",\"type\":\"BasicTicker\"}},\"id\":\"1230\",\"type\":\"Grid\"},{\"attributes\":{},\"id\":\"1277\",\"type\":\"Selection\"}],\"root_ids\":[\"1213\"]},\"title\":\"Bokeh Application\",\"version\":\"1.0.2\"}};\n",
       "  var render_items = [{\"docid\":\"b079a457-770d-4fd3-9be5-e892ca665ed3\",\"roots\":{\"1213\":\"e5efd2ed-edcf-4d4c-a9b8-b265df7a7d64\"}}];\n",
       "  root.Bokeh.embed.embed_items_notebook(docs_json, render_items);\n",
       "\n",
       "  }\n",
       "  if (root.Bokeh !== undefined) {\n",
       "    embed_document(root);\n",
       "  } else {\n",
       "    var attempts = 0;\n",
       "    var timer = setInterval(function(root) {\n",
       "      if (root.Bokeh !== undefined) {\n",
       "        embed_document(root);\n",
       "        clearInterval(timer);\n",
       "      }\n",
       "      attempts++;\n",
       "      if (attempts > 100) {\n",
       "        console.log(\"Bokeh: ERROR: Unable to run BokehJS code because BokehJS library is missing\");\n",
       "        clearInterval(timer);\n",
       "      }\n",
       "    }, 10, root)\n",
       "  }\n",
       "})(window);"
      ],
      "application/vnd.bokehjs_exec.v0+json": ""
     },
     "metadata": {
      "application/vnd.bokehjs_exec.v0+json": {
       "id": "1213"
      }
     },
     "output_type": "display_data"
    }
   ],
   "source": [
    "from bokeh.models import FactorRange\n",
    "cuisines = list(correct_and_incorrect['cuisine'])\n",
    "right_or_wrong = ['incorrect', 'correct']\n",
    "\n",
    "data = {'cuisines': cuisines, #years = cuisines \n",
    "        'incorrect': list(correct_and_incorrect['Number_Incorrect']),\n",
    "        'correct': list(correct_and_incorrect['Number_Correct'])}\n",
    "\n",
    "# data\n",
    "\n",
    "x = [(c, rw) for c in cuisines for rw in right_or_wrong]\n",
    "counts = sum(zip(data['incorrect'], data['correct']), ())\n",
    "\n",
    "\n",
    "\n",
    "source = ColumnDataSource(data=dict(x=x, counts=counts))\n",
    "\n",
    "plot = figure(x_range=FactorRange(*x), plot_height=800, plot_width=1200, title=\"Comparing Accuracy of Predicted Labels by Cuisines\")\n",
    "\n",
    "plot.vbar(x='x', top='counts', width=1, source=source, line_color='white',\n",
    "          fill_color=factor_cmap('x', palette=['tomato', '#3CB371'], factors=right_or_wrong, start=1, end=2))\n",
    "    \n",
    "plot.y_range.start = 0\n",
    "plot.x_range.range_padding = 0.01\n",
    "plot.xaxis.major_label_orientation = 1.55\n",
    "plot.xaxis.group_label_orientation = 1\n",
    "plot.xgrid.grid_line_color = None\n",
    "plot.xaxis.axis_label = 'Cuisines'\n",
    "plot.yaxis.axis_label = 'Number of Total Labels Predicted'\n",
    "\n",
    "tooltips = [\n",
    "            ('counts','@counts'),\n",
    "            ('Category','@x')\n",
    "           ]\n",
    "\n",
    "# Add the HoverTool to the figure\n",
    "plot.add_tools(HoverTool(tooltips=tooltips))\n",
    "\n",
    "show(plot)"
   ]
  },
  {
   "cell_type": "markdown",
   "metadata": {},
   "source": [
    "#### Explanation: \n",
    "Running our data through the random forest model, we were able to produce the graph above, showing how many labels we predicted correctly and in correctly for each cuisine. We know we had the most Italian and Mexican examples in our dataset, so it makes sense as shown above that we would see more of those correct than we would of thet Brazilian category, because we had the least amount of examples to train for that cuisine type. We can also see that out of the 20 cuisine categories, only 6 of them had more correct than incorrect labels, but because we had so many right in the larger cuisine categories, we end up with more right than wrong overall."
   ]
  },
  {
   "cell_type": "code",
   "execution_count": 77,
   "metadata": {},
   "outputs": [],
   "source": [
    "cr_rf_model = classification_report(y, y_pred)"
   ]
  },
  {
   "cell_type": "code",
   "execution_count": 78,
   "metadata": {},
   "outputs": [
    {
     "name": "stdout",
     "output_type": "stream",
     "text": [
      "              precision    recall  f1-score   support\n",
      "\n",
      "   brazilian       0.56      0.39      0.46       467\n",
      "     british       0.30      0.20      0.24       804\n",
      "cajun_creole       0.63      0.53      0.57      1546\n",
      "     chinese       0.60      0.79      0.68      2673\n",
      "    filipino       0.52      0.42      0.47       755\n",
      "      french       0.39      0.41      0.40      2646\n",
      "       greek       0.64      0.43      0.52      1175\n",
      "      indian       0.70      0.81      0.75      3003\n",
      "       irish       0.41      0.24      0.31       667\n",
      "     italian       0.62      0.83      0.71      7838\n",
      "    jamaican       0.71      0.28      0.40       526\n",
      "    japanese       0.65      0.50      0.56      1423\n",
      "      korean       0.69      0.46      0.55       830\n",
      "     mexican       0.75      0.85      0.80      6438\n",
      "    moroccan       0.75      0.37      0.50       821\n",
      "     russian       0.46      0.13      0.21       489\n",
      " southern_us       0.57      0.56      0.57      4320\n",
      "     spanish       0.55      0.15      0.24       989\n",
      "        thai       0.72      0.50      0.59      1539\n",
      "  vietnamese       0.61      0.33      0.43       825\n",
      "\n",
      "   micro avg       0.63      0.63      0.63     39774\n",
      "   macro avg       0.59      0.46      0.50     39774\n",
      "weighted avg       0.62      0.63      0.61     39774\n",
      "\n"
     ]
    }
   ],
   "source": [
    "print(cr_rf_model)"
   ]
  },
  {
   "cell_type": "markdown",
   "metadata": {},
   "source": [
    "## 8) Examine the feature importance of the Random Forest Classifer created above, called rf_model. Since the accuracy of the model is low, try removing the features that have low feature importance from the DataFrame and re-create the random forest classifer without these features. \n",
    "\n",
    "The features with the lowest feature importance may be throwing off the accuracy of the model. In the below code we try to remove them to see if it helps to increase the accuracy of the model. "
   ]
  },
  {
   "cell_type": "code",
   "execution_count": 79,
   "metadata": {},
   "outputs": [],
   "source": [
    "feature_importance =rf_model.feature_importances_\n",
    "#more pasta: italian --grain types might be a predictor \n",
    "#rice in more asian \n",
    "#could i do better feature extraction \n"
   ]
  },
  {
   "cell_type": "code",
   "execution_count": 80,
   "metadata": {},
   "outputs": [],
   "source": [
    "feat_imp=pd.DataFrame({\"feature_importance\":feature_importance}, index = X.columns) "
   ]
  },
  {
   "cell_type": "code",
   "execution_count": 81,
   "metadata": {},
   "outputs": [
    {
     "data": {
      "text/html": [
       "<div>\n",
       "<style scoped>\n",
       "    .dataframe tbody tr th:only-of-type {\n",
       "        vertical-align: middle;\n",
       "    }\n",
       "\n",
       "    .dataframe tbody tr th {\n",
       "        vertical-align: top;\n",
       "    }\n",
       "\n",
       "    .dataframe thead th {\n",
       "        text-align: right;\n",
       "    }\n",
       "</style>\n",
       "<table border=\"1\" class=\"dataframe\">\n",
       "  <thead>\n",
       "    <tr style=\"text-align: right;\">\n",
       "      <th></th>\n",
       "      <th>feature_importance</th>\n",
       "    </tr>\n",
       "  </thead>\n",
       "  <tbody>\n",
       "    <tr>\n",
       "      <th>soy sauce</th>\n",
       "      <td>0.020091</td>\n",
       "    </tr>\n",
       "    <tr>\n",
       "      <th>ground cumin</th>\n",
       "      <td>0.013062</td>\n",
       "    </tr>\n",
       "    <tr>\n",
       "      <th>fish sauce</th>\n",
       "      <td>0.012408</td>\n",
       "    </tr>\n",
       "    <tr>\n",
       "      <th>olive oil</th>\n",
       "      <td>0.011760</td>\n",
       "    </tr>\n",
       "    <tr>\n",
       "      <th>sesame oil</th>\n",
       "      <td>0.011429</td>\n",
       "    </tr>\n",
       "    <tr>\n",
       "      <th>salt</th>\n",
       "      <td>0.010476</td>\n",
       "    </tr>\n",
       "    <tr>\n",
       "      <th>sugar</th>\n",
       "      <td>0.009371</td>\n",
       "    </tr>\n",
       "    <tr>\n",
       "      <th>butter</th>\n",
       "      <td>0.009073</td>\n",
       "    </tr>\n",
       "    <tr>\n",
       "      <th>grated parmesan cheese</th>\n",
       "      <td>0.008547</td>\n",
       "    </tr>\n",
       "    <tr>\n",
       "      <th>all-purpose flour</th>\n",
       "      <td>0.008035</td>\n",
       "    </tr>\n",
       "    <tr>\n",
       "      <th>water</th>\n",
       "      <td>0.007949</td>\n",
       "    </tr>\n",
       "    <tr>\n",
       "      <th>onions</th>\n",
       "      <td>0.007620</td>\n",
       "    </tr>\n",
       "    <tr>\n",
       "      <th>chili powder</th>\n",
       "      <td>0.007607</td>\n",
       "    </tr>\n",
       "    <tr>\n",
       "      <th>vegetable oil</th>\n",
       "      <td>0.007442</td>\n",
       "    </tr>\n",
       "    <tr>\n",
       "      <th>garlic</th>\n",
       "      <td>0.007390</td>\n",
       "    </tr>\n",
       "    <tr>\n",
       "      <th>avocado</th>\n",
       "      <td>0.007315</td>\n",
       "    </tr>\n",
       "    <tr>\n",
       "      <th>corn starch</th>\n",
       "      <td>0.007224</td>\n",
       "    </tr>\n",
       "    <tr>\n",
       "      <th>unsalted butter</th>\n",
       "      <td>0.007168</td>\n",
       "    </tr>\n",
       "    <tr>\n",
       "      <th>ginger</th>\n",
       "      <td>0.006874</td>\n",
       "    </tr>\n",
       "    <tr>\n",
       "      <th>extra-virgin olive oil</th>\n",
       "      <td>0.006825</td>\n",
       "    </tr>\n",
       "    <tr>\n",
       "      <th>garlic cloves</th>\n",
       "      <td>0.006635</td>\n",
       "    </tr>\n",
       "    <tr>\n",
       "      <th>coconut milk</th>\n",
       "      <td>0.006503</td>\n",
       "    </tr>\n",
       "    <tr>\n",
       "      <th>green onions</th>\n",
       "      <td>0.006225</td>\n",
       "    </tr>\n",
       "    <tr>\n",
       "      <th>lime</th>\n",
       "      <td>0.005978</td>\n",
       "    </tr>\n",
       "    <tr>\n",
       "      <th>fresh ginger</th>\n",
       "      <td>0.005781</td>\n",
       "    </tr>\n",
       "    <tr>\n",
       "      <th>oil</th>\n",
       "      <td>0.005577</td>\n",
       "    </tr>\n",
       "    <tr>\n",
       "      <th>ground black pepper</th>\n",
       "      <td>0.005573</td>\n",
       "    </tr>\n",
       "    <tr>\n",
       "      <th>eggs</th>\n",
       "      <td>0.005534</td>\n",
       "    </tr>\n",
       "    <tr>\n",
       "      <th>carrots</th>\n",
       "      <td>0.005500</td>\n",
       "    </tr>\n",
       "    <tr>\n",
       "      <th>garam masala</th>\n",
       "      <td>0.005475</td>\n",
       "    </tr>\n",
       "    <tr>\n",
       "      <th>...</th>\n",
       "      <td>...</td>\n",
       "    </tr>\n",
       "    <tr>\n",
       "      <th>potato rolls</th>\n",
       "      <td>0.000000</td>\n",
       "    </tr>\n",
       "    <tr>\n",
       "      <th>hing (powder)</th>\n",
       "      <td>0.000000</td>\n",
       "    </tr>\n",
       "    <tr>\n",
       "      <th>dark ale</th>\n",
       "      <td>0.000000</td>\n",
       "    </tr>\n",
       "    <tr>\n",
       "      <th>vanilla bean seeds</th>\n",
       "      <td>0.000000</td>\n",
       "    </tr>\n",
       "    <tr>\n",
       "      <th>low-fat turkey kielbasa</th>\n",
       "      <td>0.000000</td>\n",
       "    </tr>\n",
       "    <tr>\n",
       "      <th>low-fat vegetarian chili with beans</th>\n",
       "      <td>0.000000</td>\n",
       "    </tr>\n",
       "    <tr>\n",
       "      <th>skinless boneless turkey breast halves</th>\n",
       "      <td>0.000000</td>\n",
       "    </tr>\n",
       "    <tr>\n",
       "      <th>white quinoa</th>\n",
       "      <td>0.000000</td>\n",
       "    </tr>\n",
       "    <tr>\n",
       "      <th>Italian seasoned panko bread crumbs</th>\n",
       "      <td>0.000000</td>\n",
       "    </tr>\n",
       "    <tr>\n",
       "      <th>Jasmine brown rice</th>\n",
       "      <td>0.000000</td>\n",
       "    </tr>\n",
       "    <tr>\n",
       "      <th>fresh chicken stock</th>\n",
       "      <td>0.000000</td>\n",
       "    </tr>\n",
       "    <tr>\n",
       "      <th>bacon rind</th>\n",
       "      <td>0.000000</td>\n",
       "    </tr>\n",
       "    <tr>\n",
       "      <th>lady apples</th>\n",
       "      <td>0.000000</td>\n",
       "    </tr>\n",
       "    <tr>\n",
       "      <th>reduced sodium chicken bouillon granules</th>\n",
       "      <td>0.000000</td>\n",
       "    </tr>\n",
       "    <tr>\n",
       "      <th>brazil nuts</th>\n",
       "      <td>0.000000</td>\n",
       "    </tr>\n",
       "    <tr>\n",
       "      <th>praline topping</th>\n",
       "      <td>0.000000</td>\n",
       "    </tr>\n",
       "    <tr>\n",
       "      <th>chicken salad</th>\n",
       "      <td>0.000000</td>\n",
       "    </tr>\n",
       "    <tr>\n",
       "      <th>Spice Islands Bay Leaves</th>\n",
       "      <td>0.000000</td>\n",
       "    </tr>\n",
       "    <tr>\n",
       "      <th>Adobo All Purpose Seasoning</th>\n",
       "      <td>0.000000</td>\n",
       "    </tr>\n",
       "    <tr>\n",
       "      <th>reduced sodium italian style stewed tomatoes</th>\n",
       "      <td>0.000000</td>\n",
       "    </tr>\n",
       "    <tr>\n",
       "      <th>small green chile</th>\n",
       "      <td>0.000000</td>\n",
       "    </tr>\n",
       "    <tr>\n",
       "      <th>skinless chicken fillets</th>\n",
       "      <td>0.000000</td>\n",
       "    </tr>\n",
       "    <tr>\n",
       "      <th>regular chicken broth</th>\n",
       "      <td>0.000000</td>\n",
       "    </tr>\n",
       "    <tr>\n",
       "      <th>Crystal Farms Shredded Gouda Cheese</th>\n",
       "      <td>0.000000</td>\n",
       "    </tr>\n",
       "    <tr>\n",
       "      <th>olive oil mayonnaise</th>\n",
       "      <td>0.000000</td>\n",
       "    </tr>\n",
       "    <tr>\n",
       "      <th>muenster</th>\n",
       "      <td>0.000000</td>\n",
       "    </tr>\n",
       "    <tr>\n",
       "      <th>fat-trimmed beef flank steak</th>\n",
       "      <td>0.000000</td>\n",
       "    </tr>\n",
       "    <tr>\n",
       "      <th>tallow</th>\n",
       "      <td>0.000000</td>\n",
       "    </tr>\n",
       "    <tr>\n",
       "      <th>pork picnic roast</th>\n",
       "      <td>0.000000</td>\n",
       "    </tr>\n",
       "    <tr>\n",
       "      <th>jamaican jerk marinade</th>\n",
       "      <td>0.000000</td>\n",
       "    </tr>\n",
       "  </tbody>\n",
       "</table>\n",
       "<p>6714 rows × 1 columns</p>\n",
       "</div>"
      ],
      "text/plain": [
       "                                              feature_importance\n",
       "soy sauce                                               0.020091\n",
       "ground cumin                                            0.013062\n",
       "fish sauce                                              0.012408\n",
       "olive oil                                               0.011760\n",
       "sesame oil                                              0.011429\n",
       "salt                                                    0.010476\n",
       "sugar                                                   0.009371\n",
       "butter                                                  0.009073\n",
       "grated parmesan cheese                                  0.008547\n",
       "all-purpose flour                                       0.008035\n",
       "water                                                   0.007949\n",
       "onions                                                  0.007620\n",
       "chili powder                                            0.007607\n",
       "vegetable oil                                           0.007442\n",
       "garlic                                                  0.007390\n",
       "avocado                                                 0.007315\n",
       "corn starch                                             0.007224\n",
       "unsalted butter                                         0.007168\n",
       "ginger                                                  0.006874\n",
       "extra-virgin olive oil                                  0.006825\n",
       "garlic cloves                                           0.006635\n",
       "coconut milk                                            0.006503\n",
       "green onions                                            0.006225\n",
       "lime                                                    0.005978\n",
       "fresh ginger                                            0.005781\n",
       "oil                                                     0.005577\n",
       "ground black pepper                                     0.005573\n",
       "eggs                                                    0.005534\n",
       "carrots                                                 0.005500\n",
       "garam masala                                            0.005475\n",
       "...                                                          ...\n",
       "potato rolls                                            0.000000\n",
       "hing (powder)                                           0.000000\n",
       "dark ale                                                0.000000\n",
       "vanilla bean seeds                                      0.000000\n",
       "low-fat turkey kielbasa                                 0.000000\n",
       "low-fat vegetarian chili with beans                     0.000000\n",
       "skinless boneless turkey breast halves                  0.000000\n",
       "white quinoa                                            0.000000\n",
       "Italian seasoned panko bread crumbs                     0.000000\n",
       "Jasmine brown rice                                      0.000000\n",
       "fresh chicken stock                                     0.000000\n",
       "bacon rind                                              0.000000\n",
       "lady apples                                             0.000000\n",
       "reduced sodium chicken bouillon granules                0.000000\n",
       "brazil nuts                                             0.000000\n",
       "praline topping                                         0.000000\n",
       "chicken salad                                           0.000000\n",
       "Spice Islands Bay Leaves                                0.000000\n",
       "Adobo All Purpose Seasoning                             0.000000\n",
       "reduced sodium italian style stewed tomatoes            0.000000\n",
       "small green chile                                       0.000000\n",
       "skinless chicken fillets                                0.000000\n",
       "regular chicken broth                                   0.000000\n",
       "Crystal Farms Shredded Gouda Cheese                     0.000000\n",
       "olive oil mayonnaise                                    0.000000\n",
       "muenster                                                0.000000\n",
       "fat-trimmed beef flank steak                            0.000000\n",
       "tallow                                                  0.000000\n",
       "pork picnic roast                                       0.000000\n",
       "jamaican jerk marinade                                  0.000000\n",
       "\n",
       "[6714 rows x 1 columns]"
      ]
     },
     "execution_count": 81,
     "metadata": {},
     "output_type": "execute_result"
    }
   ],
   "source": [
    "feat_imp.sort_values(by = \"feature_importance\", ascending = False)"
   ]
  },
  {
   "cell_type": "markdown",
   "metadata": {},
   "source": [
    "##### Explanation: \n",
    "The above shows that while soy sauce may point to Asian cuisine and cumin may point to Indian food, giving both a high feature importance, the more specific an ingredient, for example \"Crystal Farms Shredded Gounda Cheese\", the less importance it has in determining a cuisine type. We can also see from this that maybe many asian foods have soy sauce, where other cuisines don't use it at all."
   ]
  },
  {
   "cell_type": "markdown",
   "metadata": {},
   "source": [
    "#### a) Drop the features that are equal to the minimum feature importance in the dataset. Assign the filtered DataFrame to the variable smalled_features"
   ]
  },
  {
   "cell_type": "code",
   "execution_count": 82,
   "metadata": {},
   "outputs": [],
   "source": [
    "smallest_features = feat_imp[feat_imp[\"feature_importance\"]==feat_imp[\"feature_importance\"].min()]"
   ]
  },
  {
   "cell_type": "code",
   "execution_count": 83,
   "metadata": {},
   "outputs": [],
   "source": [
    "# train_df"
   ]
  },
  {
   "cell_type": "code",
   "execution_count": 84,
   "metadata": {},
   "outputs": [],
   "source": [
    "columns_to_drop =list(smallest_features.index)\n",
    "train_data_droppped_smallest_features = train_df.drop(columns = columns_to_drop,  axis = 1) \n",
    "\n",
    "\n",
    "\n"
   ]
  },
  {
   "cell_type": "code",
   "execution_count": 85,
   "metadata": {},
   "outputs": [],
   "source": [
    "X_no_0_features = train_data_droppped_smallest_features.drop(\"cuisine\", axis =1)"
   ]
  },
  {
   "cell_type": "code",
   "execution_count": 86,
   "metadata": {},
   "outputs": [],
   "source": [
    "# train_data_droppped_smallest_features"
   ]
  },
  {
   "cell_type": "markdown",
   "metadata": {},
   "source": [
    "#### b) Creat a new Random Forest Classifer without features that have a minimum feature importance "
   ]
  },
  {
   "cell_type": "code",
   "execution_count": 87,
   "metadata": {},
   "outputs": [
    {
     "data": {
      "text/plain": [
       "RandomForestClassifier(bootstrap=True, class_weight=None, criterion='entropy',\n",
       "            max_depth=None, max_features='auto', max_leaf_nodes=None,\n",
       "            min_impurity_decrease=0.0, min_impurity_split=None,\n",
       "            min_samples_leaf=1, min_samples_split=2,\n",
       "            min_weight_fraction_leaf=0.0, n_estimators=10, n_jobs=None,\n",
       "            oob_score=True, random_state=None, verbose=0, warm_start=False)"
      ]
     },
     "execution_count": 87,
     "metadata": {},
     "output_type": "execute_result"
    }
   ],
   "source": [
    "rf_model_dropped_feats = skens.RandomForestClassifier(n_estimators=10,oob_score=True, criterion='entropy')\n",
    "rf_model_dropped_feats.fit(X_no_0_features,y)"
   ]
  },
  {
   "cell_type": "markdown",
   "metadata": {},
   "source": [
    "#### c) Use cross validation on the Random Forest Classifier created above and with using X_no_0_features "
   ]
  },
  {
   "cell_type": "code",
   "execution_count": 88,
   "metadata": {},
   "outputs": [],
   "source": [
    "scores_dropped_feats = cross_val_score(rf_model_dropped_feats, X_no_0_features,y, cv=5)"
   ]
  },
  {
   "cell_type": "markdown",
   "metadata": {},
   "source": [
    "#### d) Calculate the Accuracy of the Random Forest Classifier "
   ]
  },
  {
   "cell_type": "code",
   "execution_count": 89,
   "metadata": {},
   "outputs": [
    {
     "name": "stdout",
     "output_type": "stream",
     "text": [
      "Accuracy: 0.63 (+/- 0.01)\n"
     ]
    }
   ],
   "source": [
    "print(\"Accuracy: %0.2f (+/- %0.2f)\" % (scores_dropped_feats.mean(), scores_dropped_feats.std() * 2))"
   ]
  },
  {
   "cell_type": "markdown",
   "metadata": {},
   "source": [
    "##### Explanation: \n",
    "The accuracy was not improved by dropping all the features that are equal to the lowest feature importance. The of the random forest classifier is still 63 percent. "
   ]
  },
  {
   "cell_type": "markdown",
   "metadata": {},
   "source": [
    "## 9) Use PCA to reduce the number of dimensions in the DataFrame. Then use PCA to create a new Random Forest Classifier to try and potentially increase accuracy of the model. "
   ]
  },
  {
   "cell_type": "code",
   "execution_count": 90,
   "metadata": {},
   "outputs": [],
   "source": [
    "from sklearn.decomposition import PCA"
   ]
  },
  {
   "cell_type": "code",
   "execution_count": 91,
   "metadata": {},
   "outputs": [],
   "source": [
    "def create_randomForestClassifer(x,y):\n",
    "    rf_model_pca = skens.RandomForestClassifier(n_estimators=10,\n",
    "                                                oob_score=True, \n",
    "                                                criterion='entropy')\n",
    "    rf_model_pca.fit(x100,y)\n",
    "    return rf_model_pca"
   ]
  },
  {
   "cell_type": "code",
   "execution_count": 92,
   "metadata": {},
   "outputs": [],
   "source": [
    "pca_1000 = PCA(n_components = 1000)\n",
    "x1000 = pca_1000.fit_transform(X)\n"
   ]
  },
  {
   "cell_type": "code",
   "execution_count": 93,
   "metadata": {},
   "outputs": [],
   "source": [
    "pca_100 = PCA(n_components = 100)\n",
    "x100 = pca_100.fit_transform(X)"
   ]
  },
  {
   "cell_type": "code",
   "execution_count": 94,
   "metadata": {},
   "outputs": [],
   "source": [
    "pca_20 = PCA(n_components = 20)\n",
    "x20 = pca_20.fit_transform(X)\n"
   ]
  },
  {
   "cell_type": "code",
   "execution_count": 95,
   "metadata": {},
   "outputs": [],
   "source": [
    "rf_model_pca_1000 = create_randomForestClassifer(x1000,y)\n",
    "rf_model_pca_100 = create_randomForestClassifer(x100,y)\n",
    "rf_model_pca_20 = create_randomForestClassifer(x20,y)"
   ]
  },
  {
   "cell_type": "code",
   "execution_count": 96,
   "metadata": {},
   "outputs": [],
   "source": [
    "scores_rf_model_pca_1000 = cross_val_score(rf_model_pca_1000, x1000,y, cv=5) \n",
    "scores_rf_model_pca_100 = cross_val_score(rf_model_pca_100, x100,y, cv=5) \n",
    "scores_rf_model_pca_20 = cross_val_score(rf_model_pca_20, x20,y, cv=5) "
   ]
  },
  {
   "cell_type": "code",
   "execution_count": 97,
   "metadata": {},
   "outputs": [
    {
     "name": "stdout",
     "output_type": "stream",
     "text": [
      "Accuracy: 0.46 (+/- 0.02)\n"
     ]
    }
   ],
   "source": [
    "print(\"Accuracy: %0.2f (+/- %0.2f)\" % (scores_rf_model_pca_1000.mean(), scores_rf_model_pca_1000.std() * 2))\n",
    "\n"
   ]
  },
  {
   "cell_type": "code",
   "execution_count": 98,
   "metadata": {},
   "outputs": [
    {
     "name": "stdout",
     "output_type": "stream",
     "text": [
      "Accuracy: 0.52 (+/- 0.01)\n"
     ]
    }
   ],
   "source": [
    "print(\"Accuracy: %0.2f (+/- %0.2f)\" % (scores_rf_model_pca_100.mean(), scores_rf_model_pca_100.std() * 2))\n",
    "\n"
   ]
  },
  {
   "cell_type": "code",
   "execution_count": 99,
   "metadata": {},
   "outputs": [
    {
     "name": "stdout",
     "output_type": "stream",
     "text": [
      "Accuracy: 0.49 (+/- 0.01)\n"
     ]
    }
   ],
   "source": [
    "print(\"Accuracy: %0.2f (+/- %0.2f)\" % (scores_rf_model_pca_20.mean(), scores_rf_model_pca_20.std() * 2))\n",
    "\n"
   ]
  },
  {
   "cell_type": "markdown",
   "metadata": {},
   "source": [
    "##### Explanation: \n",
    "Reducing the dimensions using PCA does not increase the accuracy score of the random forest classifer, stalling out at around 50%"
   ]
  },
  {
   "cell_type": "code",
   "execution_count": 100,
   "metadata": {},
   "outputs": [
    {
     "data": {
      "text/plain": [
       "RandomForestClassifier(bootstrap=True, class_weight=None, criterion='entropy',\n",
       "            max_depth=None, max_features='auto', max_leaf_nodes=None,\n",
       "            min_impurity_decrease=0.0, min_impurity_split=None,\n",
       "            min_samples_leaf=1, min_samples_split=2,\n",
       "            min_weight_fraction_leaf=0.0, n_estimators=10, n_jobs=None,\n",
       "            oob_score=True, random_state=None, verbose=0, warm_start=False)"
      ]
     },
     "execution_count": 100,
     "metadata": {},
     "output_type": "execute_result"
    }
   ],
   "source": [
    "rf_model_pca = skens.RandomForestClassifier(n_estimators=10,oob_score=True, criterion='entropy')\n",
    "rf_model_pca.fit(x100,y)"
   ]
  },
  {
   "cell_type": "code",
   "execution_count": 101,
   "metadata": {},
   "outputs": [],
   "source": [
    "scores = cross_val_score(rf_model_pca, x100,y, cv=5) "
   ]
  },
  {
   "cell_type": "code",
   "execution_count": 102,
   "metadata": {},
   "outputs": [
    {
     "name": "stdout",
     "output_type": "stream",
     "text": [
      "Accuracy: 0.52 (+/- 0.00)\n"
     ]
    }
   ],
   "source": [
    "print(\"Accuracy: %0.2f (+/- %0.2f)\" % (scores.mean(), scores.std() * 2))"
   ]
  },
  {
   "cell_type": "markdown",
   "metadata": {},
   "source": [
    "##### Explanation: \n",
    "PCA is used to reduce the number of dimensions down to 100 components in the dataset train to try to increase the accuracy score. After reducing the dimensions down, and fitting the data to the model, a new random forest classifer is created. The accuracy score is now 52 percent. This is less than the accuracy score of the random forest classifier when using all features in the dataset.  The accuracy score when using all feature columns is 63 percent. This is a 9 percent drop in accuracy."
   ]
  },
  {
   "cell_type": "markdown",
   "metadata": {},
   "source": [
    "## 10) Get predicted labels for the test data "
   ]
  },
  {
   "cell_type": "code",
   "execution_count": 103,
   "metadata": {},
   "outputs": [],
   "source": [
    "#get all the same columns in both X_test and X_train. "
   ]
  },
  {
   "cell_type": "markdown",
   "metadata": {},
   "source": [
    "#### a) Filter X_train and X_test to only have columns that are represented in both DataFrames"
   ]
  },
  {
   "cell_type": "code",
   "execution_count": 104,
   "metadata": {},
   "outputs": [],
   "source": [
    "# X[~X.isin(X_test.columns())]\n",
    "columns_in_train = set(X.columns)\n",
    "columns_in_test = set(X_test.columns)\n",
    "columns_in_both = list(columns_in_train & columns_in_test)\n",
    "new_df_with_columns_in_both_train = X[columns_in_both]\n",
    "new_df_with_columns_in_both_test = X_test[columns_in_both]\n"
   ]
  },
  {
   "cell_type": "markdown",
   "metadata": {},
   "source": [
    "#### b) Create a random forest classifier object, and then fit the model with new_df_with_columns_in_both_train and y"
   ]
  },
  {
   "cell_type": "code",
   "execution_count": 105,
   "metadata": {},
   "outputs": [],
   "source": [
    "rf_model_for_test = skens.RandomForestClassifier(n_estimators=10,\n",
    "                                                oob_score=True, \n",
    "                                                criterion='entropy')\n"
   ]
  },
  {
   "cell_type": "code",
   "execution_count": 106,
   "metadata": {},
   "outputs": [
    {
     "data": {
      "text/plain": [
       "RandomForestClassifier(bootstrap=True, class_weight=None, criterion='entropy',\n",
       "            max_depth=None, max_features='auto', max_leaf_nodes=None,\n",
       "            min_impurity_decrease=0.0, min_impurity_split=None,\n",
       "            min_samples_leaf=1, min_samples_split=2,\n",
       "            min_weight_fraction_leaf=0.0, n_estimators=10, n_jobs=None,\n",
       "            oob_score=True, random_state=None, verbose=0, warm_start=False)"
      ]
     },
     "execution_count": 106,
     "metadata": {},
     "output_type": "execute_result"
    }
   ],
   "source": [
    "rf_model_for_test.fit(new_df_with_columns_in_both_train,y)"
   ]
  },
  {
   "cell_type": "markdown",
   "metadata": {},
   "source": [
    "#### c) Get predicted labels for new_df_with_columns_in_both_test "
   ]
  },
  {
   "cell_type": "code",
   "execution_count": 107,
   "metadata": {},
   "outputs": [],
   "source": [
    "predicted_y_for_test = rf_model_for_test.predict(new_df_with_columns_in_both_test)"
   ]
  },
  {
   "cell_type": "markdown",
   "metadata": {},
   "source": [
    "#### d) Create a copy of the test_df and assign it to the variable test_df_predicted. Add a column to test_df_predicted with the predicted labels, called predicted_y_for_test. "
   ]
  },
  {
   "cell_type": "code",
   "execution_count": 108,
   "metadata": {},
   "outputs": [],
   "source": [
    "test_df_predicted = test_df.copy()\n",
    "\n",
    "test_df_predicted[\"predicted_labels\"] = predicted_y_for_test"
   ]
  },
  {
   "cell_type": "code",
   "execution_count": 109,
   "metadata": {},
   "outputs": [
    {
     "data": {
      "text/html": [
       "<div>\n",
       "<style scoped>\n",
       "    .dataframe tbody tr th:only-of-type {\n",
       "        vertical-align: middle;\n",
       "    }\n",
       "\n",
       "    .dataframe tbody tr th {\n",
       "        vertical-align: top;\n",
       "    }\n",
       "\n",
       "    .dataframe thead th {\n",
       "        text-align: right;\n",
       "    }\n",
       "</style>\n",
       "<table border=\"1\" class=\"dataframe\">\n",
       "  <thead>\n",
       "    <tr style=\"text-align: right;\">\n",
       "      <th></th>\n",
       "      <th>condensed tomato soup</th>\n",
       "      <th>sesame oil</th>\n",
       "      <th>salted roasted almonds</th>\n",
       "      <th>chipotle</th>\n",
       "      <th>green tea</th>\n",
       "      <th>brown butter</th>\n",
       "      <th>puffed rice</th>\n",
       "      <th>frosting</th>\n",
       "      <th>hog casings</th>\n",
       "      <th>ripe olives</th>\n",
       "      <th>...</th>\n",
       "      <th>ground nuts</th>\n",
       "      <th>olive oil flavored cooking spray</th>\n",
       "      <th>dried beans</th>\n",
       "      <th>smooth pasta</th>\n",
       "      <th>barley</th>\n",
       "      <th>cream cheese lowfat</th>\n",
       "      <th>frozen shelled edamame</th>\n",
       "      <th>diet orange soda</th>\n",
       "      <th>id</th>\n",
       "      <th>predicted_labels</th>\n",
       "    </tr>\n",
       "  </thead>\n",
       "  <tbody>\n",
       "    <tr>\n",
       "      <th>0</th>\n",
       "      <td>0</td>\n",
       "      <td>0</td>\n",
       "      <td>0</td>\n",
       "      <td>0</td>\n",
       "      <td>0</td>\n",
       "      <td>0</td>\n",
       "      <td>0</td>\n",
       "      <td>0</td>\n",
       "      <td>0</td>\n",
       "      <td>0</td>\n",
       "      <td>...</td>\n",
       "      <td>0</td>\n",
       "      <td>0</td>\n",
       "      <td>0</td>\n",
       "      <td>0</td>\n",
       "      <td>0</td>\n",
       "      <td>0</td>\n",
       "      <td>0</td>\n",
       "      <td>0</td>\n",
       "      <td>18009</td>\n",
       "      <td>italian</td>\n",
       "    </tr>\n",
       "    <tr>\n",
       "      <th>1</th>\n",
       "      <td>0</td>\n",
       "      <td>0</td>\n",
       "      <td>0</td>\n",
       "      <td>0</td>\n",
       "      <td>0</td>\n",
       "      <td>0</td>\n",
       "      <td>0</td>\n",
       "      <td>0</td>\n",
       "      <td>0</td>\n",
       "      <td>0</td>\n",
       "      <td>...</td>\n",
       "      <td>0</td>\n",
       "      <td>0</td>\n",
       "      <td>0</td>\n",
       "      <td>0</td>\n",
       "      <td>0</td>\n",
       "      <td>0</td>\n",
       "      <td>0</td>\n",
       "      <td>0</td>\n",
       "      <td>28583</td>\n",
       "      <td>southern_us</td>\n",
       "    </tr>\n",
       "    <tr>\n",
       "      <th>2</th>\n",
       "      <td>0</td>\n",
       "      <td>0</td>\n",
       "      <td>0</td>\n",
       "      <td>0</td>\n",
       "      <td>0</td>\n",
       "      <td>0</td>\n",
       "      <td>0</td>\n",
       "      <td>0</td>\n",
       "      <td>0</td>\n",
       "      <td>0</td>\n",
       "      <td>...</td>\n",
       "      <td>0</td>\n",
       "      <td>0</td>\n",
       "      <td>0</td>\n",
       "      <td>0</td>\n",
       "      <td>0</td>\n",
       "      <td>0</td>\n",
       "      <td>0</td>\n",
       "      <td>0</td>\n",
       "      <td>41580</td>\n",
       "      <td>italian</td>\n",
       "    </tr>\n",
       "    <tr>\n",
       "      <th>3</th>\n",
       "      <td>0</td>\n",
       "      <td>0</td>\n",
       "      <td>0</td>\n",
       "      <td>0</td>\n",
       "      <td>0</td>\n",
       "      <td>0</td>\n",
       "      <td>0</td>\n",
       "      <td>0</td>\n",
       "      <td>0</td>\n",
       "      <td>0</td>\n",
       "      <td>...</td>\n",
       "      <td>0</td>\n",
       "      <td>0</td>\n",
       "      <td>0</td>\n",
       "      <td>0</td>\n",
       "      <td>0</td>\n",
       "      <td>0</td>\n",
       "      <td>0</td>\n",
       "      <td>0</td>\n",
       "      <td>29752</td>\n",
       "      <td>cajun_creole</td>\n",
       "    </tr>\n",
       "    <tr>\n",
       "      <th>4</th>\n",
       "      <td>0</td>\n",
       "      <td>0</td>\n",
       "      <td>0</td>\n",
       "      <td>0</td>\n",
       "      <td>0</td>\n",
       "      <td>0</td>\n",
       "      <td>0</td>\n",
       "      <td>0</td>\n",
       "      <td>0</td>\n",
       "      <td>0</td>\n",
       "      <td>...</td>\n",
       "      <td>0</td>\n",
       "      <td>0</td>\n",
       "      <td>0</td>\n",
       "      <td>0</td>\n",
       "      <td>0</td>\n",
       "      <td>0</td>\n",
       "      <td>0</td>\n",
       "      <td>0</td>\n",
       "      <td>35687</td>\n",
       "      <td>italian</td>\n",
       "    </tr>\n",
       "  </tbody>\n",
       "</table>\n",
       "<p>5 rows × 4486 columns</p>\n",
       "</div>"
      ],
      "text/plain": [
       "   condensed tomato soup  sesame oil  salted roasted almonds  chipotle  \\\n",
       "0                      0           0                       0         0   \n",
       "1                      0           0                       0         0   \n",
       "2                      0           0                       0         0   \n",
       "3                      0           0                       0         0   \n",
       "4                      0           0                       0         0   \n",
       "\n",
       "   green tea  brown butter  puffed rice  frosting  hog casings  ripe olives  \\\n",
       "0          0             0            0         0            0            0   \n",
       "1          0             0            0         0            0            0   \n",
       "2          0             0            0         0            0            0   \n",
       "3          0             0            0         0            0            0   \n",
       "4          0             0            0         0            0            0   \n",
       "\n",
       "         ...         ground nuts  olive oil flavored cooking spray  \\\n",
       "0        ...                   0                                 0   \n",
       "1        ...                   0                                 0   \n",
       "2        ...                   0                                 0   \n",
       "3        ...                   0                                 0   \n",
       "4        ...                   0                                 0   \n",
       "\n",
       "   dried beans  smooth pasta  barley  cream cheese lowfat  \\\n",
       "0            0             0       0                    0   \n",
       "1            0             0       0                    0   \n",
       "2            0             0       0                    0   \n",
       "3            0             0       0                    0   \n",
       "4            0             0       0                    0   \n",
       "\n",
       "   frozen shelled edamame  diet orange soda     id  predicted_labels  \n",
       "0                       0                 0  18009           italian  \n",
       "1                       0                 0  28583       southern_us  \n",
       "2                       0                 0  41580           italian  \n",
       "3                       0                 0  29752      cajun_creole  \n",
       "4                       0                 0  35687           italian  \n",
       "\n",
       "[5 rows x 4486 columns]"
      ]
     },
     "execution_count": 109,
     "metadata": {},
     "output_type": "execute_result"
    }
   ],
   "source": [
    "test_df_predicted.head()"
   ]
  },
  {
   "cell_type": "markdown",
   "metadata": {},
   "source": [
    "#### e) Perform cross validation using the Random Forest Classifier object, called rf_model_for_test, and the train data, called new_df_with_columns_in_both_train and y, to get an accuracy score for this model. "
   ]
  },
  {
   "cell_type": "code",
   "execution_count": 110,
   "metadata": {},
   "outputs": [],
   "source": [
    "scores_of_new_model = cross_val_score(rf_model_for_test, new_df_with_columns_in_both_train,y, cv=5)"
   ]
  },
  {
   "cell_type": "code",
   "execution_count": 111,
   "metadata": {},
   "outputs": [
    {
     "name": "stdout",
     "output_type": "stream",
     "text": [
      "Accuracy: 0.63 (+/- 0.01)\n"
     ]
    }
   ],
   "source": [
    "print(\"Accuracy: %0.2f (+/- %0.2f)\" % (scores_of_new_model.mean(), scores_of_new_model.std() * 2))"
   ]
  },
  {
   "cell_type": "markdown",
   "metadata": {},
   "source": [
    "##### Explanation: \n",
    "[][][] EXPLAIN THAT WE GET THE SAME MODEL ACCURACY WHEN RUNNING ON THE TEST DATA, IS THIS EXPECTED OR NAH? [][][]"
   ]
  },
  {
   "cell_type": "markdown",
   "metadata": {},
   "source": [
    "## 11) Test to see if our model is better than a random test "
   ]
  },
  {
   "cell_type": "code",
   "execution_count": 112,
   "metadata": {},
   "outputs": [],
   "source": [
    "picking_a_label_at_random = list(np.random.random_integers(0, 19, size = len(X)))"
   ]
  },
  {
   "cell_type": "code",
   "execution_count": 113,
   "metadata": {},
   "outputs": [],
   "source": [
    "#get a list of the unique category labels \n",
    "labels = list(y.unique())"
   ]
  },
  {
   "cell_type": "code",
   "execution_count": 114,
   "metadata": {},
   "outputs": [],
   "source": [
    "#create a dictionary that maps 0-19 to their label names \n",
    "map_labels = {i : labels[i] for i in range(len(labels)) }"
   ]
  },
  {
   "cell_type": "code",
   "execution_count": 115,
   "metadata": {},
   "outputs": [],
   "source": [
    "y_labels_for_random=[map_labels[x] for x in picking_a_label_at_random]"
   ]
  },
  {
   "cell_type": "code",
   "execution_count": 116,
   "metadata": {},
   "outputs": [],
   "source": [
    "accuracy = accuracy_score(y, y_labels_for_random)"
   ]
  },
  {
   "cell_type": "code",
   "execution_count": 117,
   "metadata": {
    "scrolled": true
   },
   "outputs": [
    {
     "data": {
      "text/plain": [
       "0.05083723035148589"
      ]
     },
     "execution_count": 117,
     "metadata": {},
     "output_type": "execute_result"
    }
   ],
   "source": [
    "accuracy"
   ]
  },
  {
   "cell_type": "markdown",
   "metadata": {},
   "source": [
    "### Explanation: \n",
    "To help gadge the usefulness of the model we wanted to test whether picking a label at random has greater accuracy than the random forest classifier model created. A random test provides a baseline for our model to be compared too. After conducting a random test, and then computing the accuracy of these predictions, we found that the random test has an accracy of 5.1%. This is less than the current accuracy score of the random forest classifier. Our model has an accuracy score of 63%; therefore, this is a comparatively better model than choosing a label at random. "
   ]
  },
  {
   "cell_type": "markdown",
   "metadata": {},
   "source": [
    "#### b) use a screeplot to try and find the optimal number of components "
   ]
  },
  {
   "cell_type": "code",
   "execution_count": 118,
   "metadata": {},
   "outputs": [
    {
     "data": {
      "image/png": "[encoded data removed]",
      "text/plain": [
       "<Figure size 432x288 with 1 Axes>"
      ]
     },
     "metadata": {
      "needs_background": "light"
     },
     "output_type": "display_data"
    }
   ],
   "source": [
    "plt.plot(pca_100.explained_variance_ratio_)\n",
    "plt.xlabel('number of components')\n",
    "plt.ylabel('cumulative explained variance')\n",
    "plt.show()"
   ]
  },
  {
   "cell_type": "markdown",
   "metadata": {},
   "source": [
    "##### Explanation: \n",
    "Used a Screeplot to see the optimal number of components, it's not entirely clear where the best cutoff would be. "
   ]
  },
  {
   "cell_type": "markdown",
   "metadata": {},
   "source": [
    "## 12) Try doing NLP To Increase Accuracy "
   ]
  },
  {
   "cell_type": "markdown",
   "metadata": {},
   "source": [
    "Insert all of Nicos Code! "
   ]
  },
  {
   "cell_type": "markdown",
   "metadata": {},
   "source": [
    "# Engagment of Class "
   ]
  },
  {
   "cell_type": "markdown",
   "metadata": {},
   "source": [
    "We sent out a kaggle "
   ]
  },
  {
   "cell_type": "markdown",
   "metadata": {},
   "source": [
    "## Limitations and Challenges \n",
    "\n",
    "The test data provided by Kaggle limits the accruacy of the model. \n",
    "\n",
    "\n",
    "NOTES ABOUT WHAT WE COULD WRITE: \n",
    "- The test and train data have different sizes- created challenges because could not use the full dataset train to create the model when predicting labels for test \n",
    "- the accruacy low because so many columns \n",
    "- had to standardize the column names\n",
    "- had to remove many col\n",
    "to the differences of shapes between the "
   ]
  },
  {
   "cell_type": "markdown",
   "metadata": {},
   "source": [
    "# Main Findings: "
   ]
  },
  {
   "cell_type": "code",
   "execution_count": null,
   "metadata": {},
   "outputs": [],
   "source": []
  },
  {
   "cell_type": "markdown",
   "metadata": {},
   "source": [
    "## Recommendations for Future Work\n",
    "\n",
    "- clean ingredients more "
   ]
  },
  {
   "cell_type": "markdown",
   "metadata": {},
   "source": [
    "Options: Stick with 4000 or "
   ]
  },
  {
   "cell_type": "code",
   "execution_count": null,
   "metadata": {},
   "outputs": [],
   "source": [
    "#should have (39,0000k 100)\n",
    "#random forest classifdy \n",
    "#X100, y -->  reduced PCA "
   ]
  },
  {
   "cell_type": "code",
   "execution_count": null,
   "metadata": {},
   "outputs": [],
   "source": [
    "test.loc[18009].sort_values(ascending = False)\n"
   ]
  }
 ],
 "metadata": {
  "kernelspec": {
   "display_name": "Python 3",
   "language": "python",
   "name": "python3"
  },
  "language_info": {
   "codemirror_mode": {
    "name": "ipython",
    "version": 3
   },
   "file_extension": ".py",
   "mimetype": "text/x-python",
   "name": "python",
   "nbconvert_exporter": "python",
   "pygments_lexer": "ipython3",
   "version": "3.7.1"
  }
 },
 "nbformat": 4,
 "nbformat_minor": 4
}
